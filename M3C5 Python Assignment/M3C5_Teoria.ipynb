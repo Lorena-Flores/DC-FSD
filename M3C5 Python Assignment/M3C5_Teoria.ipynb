{
 "cells": [
  {
   "cell_type": "markdown",
   "metadata": {},
   "source": [
    "## **1.- Condicionales en Python**"
   ]
  },
  {
   "cell_type": "markdown",
   "metadata": {},
   "source": [
    "Los condicionales son estructuras de control que permiten que un programa tome decisiones basadas en ciertas condiciones. Estas sentencias nos permiten evaluar expresiones y ejecutar diferentes bloques de código dependiendo de si estas expresiones son verdaderas o falsas. En Python, los condicionales se implementan principalmente a través de las sentencias `if`, `elif` (abreviatura de “`else if`”) y `else`."
   ]
  },
  {
   "cell_type": "markdown",
   "metadata": {},
   "source": [
    "### **Operadores de comparación**"
   ]
  },
  {
   "cell_type": "markdown",
   "metadata": {},
   "source": [
    "Los condicionales hacen uso de operadores de comparación para establecer las condiciones que se evaluarán. Los principales operadores de comparación son:"
   ]
  },
  {
   "cell_type": "markdown",
   "metadata": {},
   "source": [
    "| **Operador** | **Signo** | **Función** |\n",
    "|---|---|---|\n",
    "| Igualdad | `==` | Compara si dos elementos son del mismo tipo y tienen el mismo valor. |\n",
    "| Desigualdad | `!=` | Compara si dos elementos son de diferente tipo o valor. |\n",
    "| Mayor que | `>` | Compara si un valor es mayor que otro. |\n",
    "| Mayor o igual que | `>=` | Compara si un valor es mayor o igual que otro. |\n",
    "| Menor que | `<` | Compara si un valor es menor que otro. |\n",
    "| Menor o igual que | `<=` | Compara si un valor es menor o igual que otro. |\n"
   ]
  },
  {
   "cell_type": "markdown",
   "metadata": {},
   "source": [
    "Estos operadores ayudan a establecer condiciones en los bloques de código que se pretenden ejecutar."
   ]
  },
  {
   "cell_type": "markdown",
   "metadata": {},
   "source": [
    "### **Sentencia `if`**"
   ]
  },
  {
   "cell_type": "markdown",
   "metadata": {},
   "source": [
    "La sentencia `if` se utiliza para ejecutar un bloque de código si una condición es verdadera. La sintaxis básica es la siguiente:"
   ]
  },
  {
   "cell_type": "markdown",
   "metadata": {},
   "source": [
    "```python\n",
    "if condicion:\n",
    "    # bloque de código si la condición es verdadera"
   ]
  },
  {
   "cell_type": "markdown",
   "metadata": {},
   "source": [
    "##### *Ejemplos*:"
   ]
  },
  {
   "cell_type": "markdown",
   "metadata": {},
   "source": [
    "Podemos utilizar un `if` para verificar si un número es mayor que 10:"
   ]
  },
  {
   "cell_type": "code",
   "execution_count": 72,
   "metadata": {},
   "outputs": [
    {
     "name": "stdout",
     "output_type": "stream",
     "text": [
      "El número es mayor que 10\n"
     ]
    }
   ],
   "source": [
    "numero = 15\n",
    "\n",
    "if numero > 10:\n",
    "    print(\"El número es mayor que 10\")"
   ]
  },
  {
   "cell_type": "markdown",
   "metadata": {},
   "source": [
    "En un escenario más complejo, podemos evaluar múltiples condiciones anidadas:"
   ]
  },
  {
   "cell_type": "code",
   "execution_count": 73,
   "metadata": {},
   "outputs": [
    {
     "name": "stdout",
     "output_type": "stream",
     "text": [
      "Eres un adulto que vive en Bilbao\n"
     ]
    }
   ],
   "source": [
    "edad = 24\n",
    "ciudad = \"Bilbao\"\n",
    "\n",
    "if edad >= 18:\n",
    "    if ciudad == \"Bilbao\":\n",
    "        print(\"Eres un adulto que vive en Bilbao\")\n",
    "    else:\n",
    "        print(\"Eres un adulto que no vive en Bilbao\")\n",
    "else:\n",
    "    print(\"Eres menor de edad\")"
   ]
  },
  {
   "cell_type": "markdown",
   "metadata": {},
   "source": [
    "### **Sentencia `else`**"
   ]
  },
  {
   "cell_type": "markdown",
   "metadata": {},
   "source": [
    "La sentencia `else` se utiliza para ejecutar un bloque de código cuando la condición en el `if` es falsa. La sintaxis es la siguiente:"
   ]
  },
  {
   "cell_type": "markdown",
   "metadata": {},
   "source": [
    "```python\n",
    "if condicion:\n",
    "    # bloque de código si la condición es verdadera\n",
    "else:\n",
    "    # bloque de código si la condición es falsa"
   ]
  },
  {
   "cell_type": "markdown",
   "metadata": {},
   "source": [
    "##### *Ejemplos*:"
   ]
  },
  {
   "cell_type": "markdown",
   "metadata": {},
   "source": [
    "Siguiendo el ejemplo anterior, podríamos agregar un `else` para manejar el caso en que el nombre no sea \"Lorena\":"
   ]
  },
  {
   "cell_type": "code",
   "execution_count": 74,
   "metadata": {},
   "outputs": [
    {
     "name": "stdout",
     "output_type": "stream",
     "text": [
      "Hola, invitado\n"
     ]
    }
   ],
   "source": [
    "nombre = \"Joseba\"\n",
    "\n",
    "if nombre == \"Lorena\":\n",
    "    print(\"Hola, Lorena\")\n",
    "else:\n",
    "    print(\"Hola, invitado\")"
   ]
  },
  {
   "cell_type": "markdown",
   "metadata": {},
   "source": [
    "En un escenario más complejo, podemos evaluar diferentes rangos de puntuación:"
   ]
  },
  {
   "cell_type": "code",
   "execution_count": 75,
   "metadata": {},
   "outputs": [
    {
     "name": "stdout",
     "output_type": "stream",
     "text": [
      "Bueno\n"
     ]
    }
   ],
   "source": [
    "puntuacion = 85\n",
    "\n",
    "if puntuacion >= 90:\n",
    "    print(\"Excelente\")\n",
    "else:\n",
    "    if puntuacion >= 75:\n",
    "        print(\"Bueno\")\n",
    "    else:\n",
    "        print(\"Necesita mejorar\")"
   ]
  },
  {
   "cell_type": "markdown",
   "metadata": {},
   "source": [
    "En este ejemplo, evaluamos la puntuación de un examen. Si la puntuación es mayor o igual a 90, se imprimirá \"Excelente\". Si no, se evalúa una segunda condición: si la puntuación es mayor o igual a 75, se imprimirá \"Bueno\". Si ninguna de las condiciones anteriores se cumple, se imprimirá \"Necesita mejorar\"."
   ]
  },
  {
   "cell_type": "markdown",
   "metadata": {},
   "source": [
    "### **Sentencia `elif`**"
   ]
  },
  {
   "cell_type": "markdown",
   "metadata": {},
   "source": [
    "La sentencia `elif` se utiliza para evaluar múltiples condiciones de manera secuencial. Es una abreviatura de “`else if`”. La sintaxis es la siguiente:"
   ]
  },
  {
   "cell_type": "markdown",
   "metadata": {},
   "source": [
    "```python\n",
    "if condicion_1:\n",
    "    # bloque de código si la condicion_1 es verdadera\n",
    "elif condicion_2:\n",
    "    # bloque de código si la condicion_1 es falsa y la condicion_2 es verdadera\n",
    "else:\n",
    "    # bloque de código si todas las condiciones anteriores son falsas"
   ]
  },
  {
   "cell_type": "markdown",
   "metadata": {},
   "source": [
    "##### *Ejemplos*:"
   ]
  },
  {
   "cell_type": "markdown",
   "metadata": {},
   "source": [
    "A continuación, utilizamos `elif` para clasificar un número en relación con 0:"
   ]
  },
  {
   "cell_type": "code",
   "execution_count": 76,
   "metadata": {},
   "outputs": [
    {
     "name": "stdout",
     "output_type": "stream",
     "text": [
      "El número es positivo\n"
     ]
    }
   ],
   "source": [
    "numero = 5\n",
    "\n",
    "if numero > 0:\n",
    "    print(\"El número es positivo\")\n",
    "elif numero < 0:\n",
    "    print(\"El número es negativo\")\n",
    "else:\n",
    "    print(\"El número es cero\")"
   ]
  },
  {
   "cell_type": "markdown",
   "metadata": {},
   "source": [
    "En un escenario más complejo, podemos evaluar diferentes rangos de temperatura:"
   ]
  },
  {
   "cell_type": "code",
   "execution_count": 77,
   "metadata": {},
   "outputs": [
    {
     "name": "stdout",
     "output_type": "stream",
     "text": [
      "El clima es fresco\n"
     ]
    }
   ],
   "source": [
    "temperatura = 15\n",
    "\n",
    "if temperatura > 30:\n",
    "    print(\"Hace mucho calor\")\n",
    "elif temperatura > 20:\n",
    "    print(\"El clima es cálido\")\n",
    "elif temperatura > 10:\n",
    "    print(\"El clima es fresco\")\n",
    "else:\n",
    "    print(\"Hace frío\")"
   ]
  },
  {
   "cell_type": "markdown",
   "metadata": {},
   "source": [
    "### **Condiciones múltiples**"
   ]
  },
  {
   "cell_type": "markdown",
   "metadata": {},
   "source": [
    "También es posible combinar múltiples condiciones utilizando los operadores `and`, `or` y `not`. Estos operadores nos permiten construir condiciones más complejas:\n",
    "\n",
    "- `and`: Retorna *True* si ambas condiciones son verdaderas.\n",
    "- `or`: Retorna *True* si al menos una de las condiciones es verdadera.\n",
    "- `not`: Retorna *True* si la condición es falsa.\n"
   ]
  },
  {
   "cell_type": "markdown",
   "metadata": {},
   "source": [
    "##### *Ejemplos*:"
   ]
  },
  {
   "cell_type": "code",
   "execution_count": 78,
   "metadata": {},
   "outputs": [
    {
     "name": "stdout",
     "output_type": "stream",
     "text": [
      "Todas las condiciones son verdaderas\n"
     ]
    }
   ],
   "source": [
    "x = 10\n",
    "y = 5\n",
    "z = 0\n",
    "\n",
    "if x > y and y > z:\n",
    "    print(\"Todas las condiciones son verdaderas\")"
   ]
  },
  {
   "cell_type": "markdown",
   "metadata": {},
   "source": [
    "Otro ejemplo utilizando el operador `or`:"
   ]
  },
  {
   "cell_type": "code",
   "execution_count": 79,
   "metadata": {},
   "outputs": [
    {
     "name": "stdout",
     "output_type": "stream",
     "text": [
      "Al menos una de las condiciones es verdadera\n"
     ]
    }
   ],
   "source": [
    "a = 3\n",
    "b = 7\n",
    "\n",
    "if a > 5 or b > 5:\n",
    "    print(\"Al menos una de las condiciones es verdadera\")"
   ]
  },
  {
   "cell_type": "markdown",
   "metadata": {},
   "source": [
    "En un escenario más complejo, podemos evaluar múltiples condiciones para verificar si una persona cumple con los requisitos para solicitar un préstamo:"
   ]
  },
  {
   "cell_type": "code",
   "execution_count": 80,
   "metadata": {},
   "outputs": [
    {
     "name": "stdout",
     "output_type": "stream",
     "text": [
      "Cumples con los requisitos para solicitar el préstamo\n"
     ]
    }
   ],
   "source": [
    "edad = 20\n",
    "ingresos = 3000\n",
    "\n",
    "if edad >= 18 and ingresos >= 2000:\n",
    "    print(\"Cumples con los requisitos para solicitar el préstamo\")\n",
    "else:\n",
    "    print(\"No cumples con los requisitos para solicitar el préstamo\")"
   ]
  },
  {
   "cell_type": "markdown",
   "metadata": {},
   "source": [
    "## **2.- ¿Cuáles son los diferentes tipos de bucles en Python? ¿Por qué son útiles?**"
   ]
  },
  {
   "cell_type": "markdown",
   "metadata": {},
   "source": [
    "Los bucles son estructuras de control que permiten ejecutar un bloque de código repetidamente mientras se cumpla una condición. Son útiles para automatizar tareas repetitivas, procesar datos y simplificar el código. En Python, los principales tipos de bucles son `for` y `while`."
   ]
  },
  {
   "cell_type": "markdown",
   "metadata": {},
   "source": [
    "### **Bucle `for`**"
   ]
  },
  {
   "cell_type": "markdown",
   "metadata": {},
   "source": [
    "El bucle `for` se utiliza para iterar sobre una secuencia (como una lista, tupla, diccionario, conjunto o cadena) y ejecutar un bloque de código para cada elemento de la secuencia. La sintaxis básica es la siguiente:"
   ]
  },
  {
   "cell_type": "markdown",
   "metadata": {},
   "source": [
    "```python\n",
    "for elemento in secuencia:\n",
    "    # bloque de código a ejecutar para cada elemento\n"
   ]
  },
  {
   "cell_type": "markdown",
   "metadata": {},
   "source": [
    "##### *Ejemplos*:"
   ]
  },
  {
   "cell_type": "markdown",
   "metadata": {},
   "source": [
    "Iterar sobre una lista de números y calcular su cuadrado. En este ejemplo, el bucle `for` recorre cada número en la lista numeros, calcula su cuadrado y lo imprime:"
   ]
  },
  {
   "cell_type": "code",
   "execution_count": 81,
   "metadata": {},
   "outputs": [
    {
     "name": "stdout",
     "output_type": "stream",
     "text": [
      "El cuadrado de 1 es 1\n",
      "El cuadrado de 2 es 4\n",
      "El cuadrado de 3 es 9\n",
      "El cuadrado de 4 es 16\n",
      "El cuadrado de 5 es 25\n"
     ]
    }
   ],
   "source": [
    "numeros = [1, 2, 3, 4, 5]\n",
    "\n",
    "for numero in numeros:\n",
    "    cuadrado = numero ** 2\n",
    "    print(f\"El cuadrado de {numero} es {cuadrado}\")"
   ]
  },
  {
   "cell_type": "markdown",
   "metadata": {},
   "source": [
    "En este otro ejemplo, vamos a iterar sobre un diccionario y mostrar sus claves y valores:"
   ]
  },
  {
   "cell_type": "code",
   "execution_count": 82,
   "metadata": {},
   "outputs": [
    {
     "name": "stdout",
     "output_type": "stream",
     "text": [
      "Alice tiene una puntuación de 85\n",
      "Bob tiene una puntuación de 92\n",
      "Charlie tiene una puntuación de 78\n"
     ]
    }
   ],
   "source": [
    "estudiantes = {\n",
    "    \"Alice\": 85,\n",
    "    \"Bob\": 92,\n",
    "    \"Charlie\": 78\n",
    "}\n",
    "\n",
    "for nombre, puntuacion in estudiantes.items():\n",
    "    print(f\"{nombre} tiene una puntuación de {puntuacion}\")"
   ]
  },
  {
   "cell_type": "markdown",
   "metadata": {},
   "source": [
    "### **Bucle `while`**"
   ]
  },
  {
   "cell_type": "markdown",
   "metadata": {},
   "source": [
    "El bucle `while` se utiliza para ejecutar un bloque de código repetidamente mientras una condición sea verdadera. La sintaxis básica es la siguiente:"
   ]
  },
  {
   "cell_type": "markdown",
   "metadata": {},
   "source": [
    "```python\n",
    "while condicion:\n",
    "    # bloque de código a ejecutar mientras la condición sea verdadera\n"
   ]
  },
  {
   "cell_type": "markdown",
   "metadata": {},
   "source": [
    "##### *Ejemplos*:"
   ]
  },
  {
   "cell_type": "markdown",
   "metadata": {},
   "source": [
    "Contar del 1 al 5. En este ejemplo, el bucle `while` se ejecuta mientras el valor de contador sea menor o igual a 5, imprimiendo el valor de contador y luego incrementándolo en 1:"
   ]
  },
  {
   "cell_type": "code",
   "execution_count": 83,
   "metadata": {},
   "outputs": [
    {
     "name": "stdout",
     "output_type": "stream",
     "text": [
      "1\n",
      "2\n",
      "3\n",
      "4\n",
      "5\n"
     ]
    }
   ],
   "source": [
    "contador = 1\n",
    "\n",
    "while contador <= 5:\n",
    "    print(contador)\n",
    "    contador += 1"
   ]
  },
  {
   "cell_type": "markdown",
   "metadata": {},
   "source": [
    "En este otro ejemplo, el bucle `while` se ejecutará mientras el usuario no ingrese \"salir\". Cada vez que el usuario ingrese algo, se mostrará lo que ingresó, a menos que ingrese \"salir\"."
   ]
  },
  {
   "cell_type": "code",
   "execution_count": 84,
   "metadata": {},
   "outputs": [
    {
     "name": "stdout",
     "output_type": "stream",
     "text": [
      "Todavía no has terminado.\n",
      "Fin del programa.\n"
     ]
    }
   ],
   "source": [
    "entrada = \"\"\n",
    "while entrada != \"salir\":\n",
    "    entrada = input(\"Escribe 'salir' para terminar: \")\n",
    "    if entrada != \"salir\":\n",
    "        print(\"Todavía no has terminado.\")\n",
    "print(\"Fin del programa.\")"
   ]
  },
  {
   "cell_type": "markdown",
   "metadata": {},
   "source": [
    "### **Bucles anidados**"
   ]
  },
  {
   "cell_type": "markdown",
   "metadata": {},
   "source": [
    "Los bucles también se pueden anidar, es decir, tener un bucle dentro de otro. Esto es útil para trabajar con estructuras de datos multidimensionales, como matrices."
   ]
  },
  {
   "cell_type": "markdown",
   "metadata": {},
   "source": [
    "##### *Ejemplos*:"
   ]
  },
  {
   "cell_type": "markdown",
   "metadata": {},
   "source": [
    "Iterar sobre una matriz y calcular la suma de sus elementos:"
   ]
  },
  {
   "cell_type": "code",
   "execution_count": 85,
   "metadata": {},
   "outputs": [
    {
     "name": "stdout",
     "output_type": "stream",
     "text": [
      "La suma de todos los elementos de la matriz es 45\n"
     ]
    }
   ],
   "source": [
    "matriz = [\n",
    "    [1, 2, 3],\n",
    "    [4, 5, 6],\n",
    "    [7, 8, 9]\n",
    "]\n",
    "\n",
    "suma = 0\n",
    "\n",
    "for fila in matriz:\n",
    "    for elemento in fila:\n",
    "        suma += elemento\n",
    "\n",
    "print(f\"La suma de todos los elementos de la matriz es {suma}\")"
   ]
  },
  {
   "cell_type": "markdown",
   "metadata": {},
   "source": [
    "En este ejemplo, un bucle `for` exterior recorre cada fila de la matriz, y un bucle `for` interior recorre cada elemento de la fila, sumando todos los elementos de la matriz."
   ]
  },
  {
   "cell_type": "markdown",
   "metadata": {},
   "source": [
    "### **Control de bucles**"
   ]
  },
  {
   "cell_type": "markdown",
   "metadata": {},
   "source": [
    "En Python, también podemos controlar la ejecución de bucles utilizando las sentencias `break` y `continue`."
   ]
  },
  {
   "cell_type": "markdown",
   "metadata": {},
   "source": [
    "#### *Sentencia `break`*"
   ]
  },
  {
   "cell_type": "markdown",
   "metadata": {},
   "source": [
    "La sentencia `break` se utiliza para salir de un bucle de manera anticipada, es decir, antes de que se complete el ciclo normal del bucle."
   ]
  },
  {
   "cell_type": "code",
   "execution_count": 86,
   "metadata": {},
   "outputs": [
    {
     "name": "stdout",
     "output_type": "stream",
     "text": [
      "1\n",
      "2\n",
      "3\n",
      "4\n"
     ]
    }
   ],
   "source": [
    "for numero in range(1, 11):\n",
    "    if numero == 5:\n",
    "        break\n",
    "    print(numero)"
   ]
  },
  {
   "cell_type": "markdown",
   "metadata": {},
   "source": [
    "En este ejemplo, el bucle `for` se detiene una vez que el numero es igual a 5, y no se imprimen los números posteriores a 4."
   ]
  },
  {
   "cell_type": "markdown",
   "metadata": {},
   "source": [
    "#### *Sentencia `continue`*"
   ]
  },
  {
   "cell_type": "markdown",
   "metadata": {},
   "source": [
    "La sentencia `continue` se utiliza para saltar el resto del código dentro del bucle y pasar a la siguiente iteración."
   ]
  },
  {
   "cell_type": "code",
   "execution_count": 87,
   "metadata": {},
   "outputs": [
    {
     "name": "stdout",
     "output_type": "stream",
     "text": [
      "1\n",
      "2\n",
      "3\n",
      "4\n",
      "6\n",
      "7\n",
      "8\n",
      "9\n",
      "10\n"
     ]
    }
   ],
   "source": [
    "for numero in range(1, 11):\n",
    "    if numero == 5:\n",
    "        continue\n",
    "    print(numero)"
   ]
  },
  {
   "cell_type": "markdown",
   "metadata": {},
   "source": [
    "En este ejemplo, cuando numero sea igual a 5, el continue hará que se salte la impresión de ese número y continuará con la siguiente iteración."
   ]
  },
  {
   "cell_type": "markdown",
   "metadata": {},
   "source": [
    "### **Utilidad de los bucles**"
   ]
  },
  {
   "cell_type": "markdown",
   "metadata": {},
   "source": [
    "Los bucles son extremadamente útiles en programación por varias razones:\n",
    "\n",
    "- **Automatización**: Permiten automatizar tareas repetitivas sin necesidad de escribir código redundante.\n",
    "- **Procesamiento de datos**: Facilitan el procesamiento de grandes cantidades de datos de manera eficiente.\n",
    "- **Reducción de errores**: Al evitar la repetición de código, se reduce la probabilidad de cometer errores.\n",
    "- **Flexibilidad**: Permiten iterar sobre diferentes tipos de estructuras de datos y adaptar el comportamiento del programa en función de las condiciones."
   ]
  },
  {
   "cell_type": "markdown",
   "metadata": {},
   "source": [
    "## **3.- ¿Qué es una lista por comprensión en Python?**"
   ]
  },
  {
   "cell_type": "markdown",
   "metadata": {},
   "source": [
    "En Python, una lista por comprensión es una forma concisa y eficiente de crear listas. Esta técnica permite generar nuevas listas aplicando una expresión a cada elemento de una secuencia existente, y opcionalmente, filtrar elementos basándose en condiciones específicas. Las listas por comprensión son apreciadas por su capacidad de simplificar y mejorar la legibilidad del código.<br> \n",
    "\n",
    "Las listas por comprensión son una alternativa poderosa a los bucles `for` tradicionales y funciones de mapeo y filtrado. Utilizando una sintaxis específica, puedes expresar la lógica de creación y transformación de listas de una manera más compacta y directa.<br> \n",
    "\n",
    "La sintaxis básica de una lista por comprensión es la siguiente:"
   ]
  },
  {
   "cell_type": "markdown",
   "metadata": {},
   "source": [
    "```python\n",
    "nueva_lista = [expresión for elemento in secuencia si condición]"
   ]
  },
  {
   "cell_type": "markdown",
   "metadata": {},
   "source": [
    "Donde:\n",
    "\n",
    "- **Expresión**: Es la operación o transformación que se aplicará a cada elemento de la secuencia.\n",
    "\n",
    "- **Elemento**: Es una variable que representa cada ítem en la secuencia.\n",
    "\n",
    "- **Secuencia**: Es la lista o iterable del que se extraen los elementos.\n",
    "\n",
    "- **Condición** (opcional): Actúa como un filtro; solo los elementos que cumplan la condición serán incluidos en la nueva lista."
   ]
  },
  {
   "cell_type": "markdown",
   "metadata": {},
   "source": [
    "##### *Ejemplos*:"
   ]
  },
  {
   "cell_type": "markdown",
   "metadata": {},
   "source": [
    "Crear una lista con los cuadrados de los números del 1 al 5. \n",
    "\n",
    "En este ejemplo:\n",
    "\n",
    "- **Expresión**: x**2 (el cuadrado de cada número).\n",
    "\n",
    "- **Elemento**: x (cada número en la lista numeros).\n",
    "\n",
    "- **Secuencia**: numeros (la lista de números del 1 al 5)."
   ]
  },
  {
   "cell_type": "code",
   "execution_count": 88,
   "metadata": {},
   "outputs": [
    {
     "name": "stdout",
     "output_type": "stream",
     "text": [
      "[1, 4, 9, 16, 25]\n"
     ]
    }
   ],
   "source": [
    "numeros = [1, 2, 3, 4, 5]\n",
    "cuadrados = [x**2 for x in numeros]\n",
    "print(cuadrados) "
   ]
  },
  {
   "cell_type": "markdown",
   "metadata": {},
   "source": [
    "Crear una lista que contenga solo los números pares de una lista de números del 1 al 5. \n",
    "\n",
    "En este ejemplo:\n",
    "\n",
    "- **Expresión**: x (el número tal cual).\n",
    "\n",
    "- **Elemento**: x (cada número en la lista numeros).\n",
    "\n",
    "- **Secuencia**: numeros.\n",
    "\n",
    "- **Condición**: x % 2 == 0 (solo números pares)."
   ]
  },
  {
   "cell_type": "code",
   "execution_count": 89,
   "metadata": {},
   "outputs": [
    {
     "name": "stdout",
     "output_type": "stream",
     "text": [
      "[2, 4]\n"
     ]
    }
   ],
   "source": [
    "numeros = [1, 2, 3, 4, 5]\n",
    "pares = [x for x in numeros if x % 2 == 0]\n",
    "print(pares) "
   ]
  },
  {
   "cell_type": "markdown",
   "metadata": {},
   "source": [
    "Crear una matriz de 3x3 con valores al cuadrado.En este caso, la lista por comprensión anidada genera una matriz de 3x3 donde cada valor es el cuadrado de su índice:"
   ]
  },
  {
   "cell_type": "code",
   "execution_count": 90,
   "metadata": {},
   "outputs": [
    {
     "name": "stdout",
     "output_type": "stream",
     "text": [
      "[[0, 1, 4], [0, 1, 4], [0, 1, 4]]\n"
     ]
    }
   ],
   "source": [
    "matriz = [[i**2 for i in range(3)] for j in range(3)]\n",
    "print(matriz) "
   ]
  },
  {
   "cell_type": "markdown",
   "metadata": {},
   "source": [
    "Convertir números a cadenas de texto. En este ejemplo, la función convertir_a_cadena se aplica a cada número en la lista:"
   ]
  },
  {
   "cell_type": "code",
   "execution_count": 91,
   "metadata": {},
   "outputs": [
    {
     "name": "stdout",
     "output_type": "stream",
     "text": [
      "['1', '2', '3', '4', '5']\n"
     ]
    }
   ],
   "source": [
    "def convertir_a_cadena(numero):\n",
    "    return str(numero)\n",
    "\n",
    "numeros = [1, 2, 3, 4, 5]\n",
    "cadenas = [convertir_a_cadena(x) for x in numeros]\n",
    "print(cadenas) "
   ]
  },
  {
   "cell_type": "markdown",
   "metadata": {},
   "source": [
    "Filtrar números que sean pares y mayores que 2:"
   ]
  },
  {
   "cell_type": "code",
   "execution_count": 92,
   "metadata": {},
   "outputs": [
    {
     "name": "stdout",
     "output_type": "stream",
     "text": [
      "[4, 6]\n"
     ]
    }
   ],
   "source": [
    "numeros = [1, 2, 3, 4, 5, 6]\n",
    "pares_y_mayores_que_dos = [x for x in numeros if x % 2 == 0 if x > 2]\n",
    "print(pares_y_mayores_que_dos) "
   ]
  },
  {
   "cell_type": "markdown",
   "metadata": {},
   "source": [
    "Convertir palabras a mayúsculas:"
   ]
  },
  {
   "cell_type": "code",
   "execution_count": 93,
   "metadata": {},
   "outputs": [
    {
     "name": "stdout",
     "output_type": "stream",
     "text": [
      "['HOLA', 'MUNDO', 'ESTOY', 'APRENDIENDO', 'PYTHON']\n"
     ]
    }
   ],
   "source": [
    "palabras = [\"hola\", \"mundo\", \"estoy\", \"aprendiendo\", \"python\"]\n",
    "mayusculas = [palabra.upper() for palabra in palabras]\n",
    "print(mayusculas) "
   ]
  },
  {
   "cell_type": "markdown",
   "metadata": {},
   "source": [
    "### **Comparación con bucle `for` tradicional**"
   ]
  },
  {
   "cell_type": "markdown",
   "metadata": {},
   "source": [
    "Bucle `for` tradicional:"
   ]
  },
  {
   "cell_type": "code",
   "execution_count": 94,
   "metadata": {},
   "outputs": [
    {
     "name": "stdout",
     "output_type": "stream",
     "text": [
      "[1, 4, 9, 16, 25]\n"
     ]
    }
   ],
   "source": [
    "numeros = [1, 2, 3, 4, 5]\n",
    "cuadrados = []\n",
    "for x in numeros:\n",
    "    cuadrados.append(x**2)\n",
    "print(cuadrados)"
   ]
  },
  {
   "cell_type": "markdown",
   "metadata": {},
   "source": [
    "Lista por comprensión:"
   ]
  },
  {
   "cell_type": "code",
   "execution_count": 95,
   "metadata": {},
   "outputs": [
    {
     "name": "stdout",
     "output_type": "stream",
     "text": [
      "[1, 4, 9, 16, 25]\n"
     ]
    }
   ],
   "source": [
    "numeros = [1, 2, 3, 4, 5]\n",
    "cuadrados = [x**2 for x in numeros]\n",
    "print(cuadrados) "
   ]
  },
  {
   "cell_type": "markdown",
   "metadata": {},
   "source": [
    "Como se puede observar, la lista por comprensión no solo es más concisa, sino también más legible que el bucle for tradicional.\n",
    "\n",
    "Las listas por comprensión son una herramienta versátil en Python. Mejoran la legibilidad del código y pueden hacer que las operaciones sean más concisas y eficientes. Trabajando con números, cadenas o estructuras de datos más complejas, las listas por comprensión pueden simplificar el código y hacerlo más elegante."
   ]
  },
  {
   "cell_type": "markdown",
   "metadata": {},
   "source": [
    "## **4.- ¿Qué es un argumento en Python?**"
   ]
  },
  {
   "cell_type": "markdown",
   "metadata": {},
   "source": [
    "En Python, los argumentos son valores que se pasan a las funciones cuando se llaman. Estos argumentos permiten a las funciones operar con datos proporcionados por el usuario o por otras partes del programa, lo que permite una mayor flexibilidad y reutilización del código. Comprender los diferentes tipos de argumentos y cómo utilizarlos es esencial para escribir funciones efectivas y eficientes en Python.\n",
    "\n",
    "### **4.1.- Tipos de argumentos en Python**\n",
    "\n",
    "En Python, hay varios tipos de argumentos que se pueden pasar a una función:\n",
    "\n",
    "- Argumentos posicionales\n",
    "\n",
    "- Argumentos con nombre (Keyword Arguments)\n",
    "\n",
    "- Argumentos por defecto (Default Arguments)\n",
    "\n",
    "- Argumentos arbitrarios (usando \\args y \\\\kwargs)*"
   ]
  },
  {
   "cell_type": "markdown",
   "metadata": {},
   "source": [
    "#### *4.1.1.- Argumentos posicionales*\n",
    "\n",
    "Los argumentos posicionales son aquellos que se pasan a la función en el orden en que se definen en la declaración de la función."
   ]
  },
  {
   "cell_type": "code",
   "execution_count": 96,
   "metadata": {},
   "outputs": [
    {
     "name": "stdout",
     "output_type": "stream",
     "text": [
      "Hola, Nico. Tienes 23 años.\n"
     ]
    }
   ],
   "source": [
    "def saludar(nombre, edad):\n",
    "    print(f\"Hola, {nombre}. Tienes {edad} años.\")\n",
    "\n",
    "saludar(\"Nico\", 23)"
   ]
  },
  {
   "cell_type": "markdown",
   "metadata": {},
   "source": [
    "En este ejemplo, nombre y edad son argumentos posicionales. Se pasan en el mismo orden en que se definen en la función saludar.\n",
    "\n",
    "##### *Ventajas y Desventajas de los argumentos posicionales*\n",
    "\n",
    "*Ventajas*:\n",
    "\n",
    "- Simplicidad: Son fáciles de usar y entender.\n",
    "\n",
    "- Eficiencia: El intérprete de Python maneja los argumentos posicionales de manera eficiente.<br>\n",
    "\n",
    "\n",
    "*Desventajas*:\n",
    "\n",
    "- Rigidez: El orden en que se pasan los argumentos es crítico y no se puede cambiar.\n",
    "\n",
    "- Legibilidad: Puede ser menos claro qué representa cada argumento sin comentarios adicionales."
   ]
  },
  {
   "cell_type": "markdown",
   "metadata": {},
   "source": [
    "#### *4.1.2.- Argumentos con nombre (Keyword arguments)*\n",
    "\n",
    "Los argumentos con nombre permiten especificar el valor de un argumento utilizando el nombre del mismo en lugar de su posición."
   ]
  },
  {
   "cell_type": "code",
   "execution_count": 97,
   "metadata": {},
   "outputs": [
    {
     "name": "stdout",
     "output_type": "stream",
     "text": [
      "Hola, Nico. Tienes 23 años.\n"
     ]
    }
   ],
   "source": [
    "def saludar(nombre, edad):\n",
    "    print(f\"Hola, {nombre}. Tienes {edad} años.\")\n",
    "\n",
    "saludar(nombre=\"Nico\", edad=23) "
   ]
  },
  {
   "cell_type": "markdown",
   "metadata": {},
   "source": [
    "En este ejemplo, los argumentos se pasan especificando sus nombres (nombre y edad), lo que puede mejorar la claridad del código.\n",
    "\n",
    "##### *Ventajas y desventajas de los argumentos con nombre*\n",
    "\n",
    "*Ventajas*:\n",
    "\n",
    "- Claridad: Los argumentos son más explícitos, lo que mejora la legibilidad del código.\n",
    "\n",
    "- Flexibilidad: El orden de los argumentos no importa.<br>\n",
    "\n",
    "*Desventajas*:\n",
    "\n",
    "- Verbosidad: Puede ser más detallado y prolongado al escribir llamadas a funciones.\n",
    "\n",
    "- Compatibilidad: Deben coincidir exactamente con los nombres de los parámetros definidos en la función."
   ]
  },
  {
   "cell_type": "markdown",
   "metadata": {},
   "source": [
    "#### *4.1.3.- Argumentos por defecto (Default arguments)*\n",
    "\n",
    "Los argumentos por defecto son aquellos que tienen un valor predeterminado que se utiliza si no se proporciona un valor explícito para ese argumento al llamar a la función."
   ]
  },
  {
   "cell_type": "code",
   "execution_count": 98,
   "metadata": {},
   "outputs": [
    {
     "name": "stdout",
     "output_type": "stream",
     "text": [
      "Hola, Nico. Tienes 23 años.\n",
      "Hola, Alexis. Tienes 27 años.\n"
     ]
    }
   ],
   "source": [
    "def saludar(nombre, edad=23):\n",
    "    print(f\"Hola, {nombre}. Tienes {edad} años.\")\n",
    "\n",
    "saludar(\"Nico\") \n",
    "saludar(\"Alexis\", 27) "
   ]
  },
  {
   "cell_type": "markdown",
   "metadata": {},
   "source": [
    "En este ejemplo, edad tiene un valor por defecto de 23. Si no se proporciona edad al llamar a la función, se utiliza el valor por defecto.\n",
    "\n",
    "##### *Ventajas y desventajas de los argumentos por defecto*\n",
    "\n",
    "*Ventajas*:\n",
    "\n",
    "- Flexibilidad: Permiten definir valores predeterminados, haciendo que las funciones sean más versátiles.\n",
    "\n",
    "- Simplicidad: Simplifican las llamadas a funciones cuando los valores predeterminados son adecuados.<br>\n",
    "\n",
    "*Desventajas*:\n",
    "\n",
    "- Confusión: Puede ser confuso para los usuarios de la función si no conocen los valores predeterminados.\n",
    "\n",
    "- Mantenimiento: Los valores predeterminados deben ser cuidadosamente elegidos y documentados."
   ]
  },
  {
   "cell_type": "markdown",
   "metadata": {},
   "source": [
    "#### *4.1.4.- Argumentos arbitrarios (usando \\args y \\\\kwargs)*\n",
    "\n",
    "Los argumentos arbitrarios permiten pasar un número variable de argumentos a una función. Esto es útil cuando no se sabe de antemano cuántos argumentos se pasarán.\n",
    "\n",
    "##### *Ejemplo con \\args*:*"
   ]
  },
  {
   "cell_type": "code",
   "execution_count": 99,
   "metadata": {},
   "outputs": [
    {
     "name": "stdout",
     "output_type": "stream",
     "text": [
      "15\n"
     ]
    }
   ],
   "source": [
    "def sumar(*numeros):\n",
    "    suma = 0\n",
    "    for numero in numeros:\n",
    "        suma += numero\n",
    "    return suma\n",
    "\n",
    "print(sumar(1, 2, 3, 4, 5)) "
   ]
  },
  {
   "cell_type": "markdown",
   "metadata": {},
   "source": [
    "En este ejemplo, *numeros permite pasar cualquier cantidad de argumentos posicionales a la función sumar.\n",
    "\n",
    "##### *Ejemplo con \\\\kwargs*:**"
   ]
  },
  {
   "cell_type": "code",
   "execution_count": 100,
   "metadata": {},
   "outputs": [
    {
     "name": "stdout",
     "output_type": "stream",
     "text": [
      "nombre: Jon\n",
      "edad: 25\n",
      "ciudad: Bilbao\n"
     ]
    }
   ],
   "source": [
    "def mostrar_info(**info):\n",
    "    for clave, valor in info.items():\n",
    "        print(f\"{clave}: {valor}\")\n",
    "\n",
    "mostrar_info(nombre=\"Jon\", edad=25, ciudad=\"Bilbao\")  "
   ]
  },
  {
   "cell_type": "markdown",
   "metadata": {},
   "source": [
    "En este ejemplo, **info permite pasar cualquier cantidad de argumentos con nombre a la función mostrar_info.\n",
    "\n",
    "##### *Ventajas y Desventajas de los Argumentos Arbitrarios*\n",
    "\n",
    "*Ventajas*:\n",
    "\n",
    "- Flexibilidad: Permiten pasar un número variable de argumentos.\n",
    "\n",
    "- Generalidad: Hacen que las funciones sean más generales y reutilizables.\n",
    "\n",
    "*Desventajas*:\n",
    "\n",
    "- Complejidad: Pueden ser más difíciles de entender y usar correctamente.\n",
    "\n",
    "- Legibilidad: La lógica de la función puede volverse más complicada y menos clara."
   ]
  },
  {
   "cell_type": "markdown",
   "metadata": {},
   "source": [
    "## **5.- ¿Qué es una función Lambda en Python?**"
   ]
  },
  {
   "cell_type": "markdown",
   "metadata": {},
   "source": [
    "Las funciones `lambda` en Python, también conocidas como funciones anónimas, son una forma concisa de definir funciones simples. Se utilizan para crear pequeñas funciones sin la necesidad de definirlas utilizando el tradicional `def` y sin asignarles un nombre. Las funciones `lambda` son especialmente útiles en situaciones en las que se requiere una función temporal y simple, como en operaciones de filtrado o mapeo.\n",
    "\n",
    "La sintaxis básica de una función `lambda` en Python es la siguiente:"
   ]
  },
  {
   "cell_type": "markdown",
   "metadata": {},
   "source": [
    "```python\n",
    "lambda argumentos: expresión"
   ]
  },
  {
   "cell_type": "markdown",
   "metadata": {},
   "source": [
    "- `lambda`: palabra clave utilizada para definir una función lambda.\n",
    "\n",
    "- argumentos: una lista de parámetros separados por comas.\n",
    "\n",
    "- expresión: una única expresión que se evalúa y devuelve como resultado.\n",
    "\n",
    "##### *Ejemplos*:\n",
    "\n",
    "Función `lambda` que suma dos números:"
   ]
  },
  {
   "cell_type": "code",
   "execution_count": 101,
   "metadata": {},
   "outputs": [
    {
     "name": "stdout",
     "output_type": "stream",
     "text": [
      "8\n"
     ]
    }
   ],
   "source": [
    "suma = lambda x, y: x + y\n",
    "print(suma(3, 5)) "
   ]
  },
  {
   "cell_type": "markdown",
   "metadata": {},
   "source": [
    "En este ejemplo:\n",
    "\n",
    "- x e y son los argumentos.\n",
    "\n",
    "- x + y es la expresión que se evalúa y devuelve como resultado.\n",
    "\n",
    "### **Usos comunes de las funciones `Lambda`**\n",
    "\n",
    "Las funciones `lambda` se utilizan frecuentemente en combinación con otras funciones de orden superior como `filter()`, `map()` y `reduce()`.\n",
    "\n",
    "#### *Uso con `filter()`*\n",
    "\n",
    "La función `filter()` se utiliza para crear una nueva lista con los elementos que cumplen una condición. A continuación, se muestra un ejemplo que filtra los números pares de una lista utilizando una función lambda:"
   ]
  },
  {
   "cell_type": "code",
   "execution_count": 102,
   "metadata": {},
   "outputs": [
    {
     "name": "stdout",
     "output_type": "stream",
     "text": [
      "[2, 4, 6, 8, 10]\n"
     ]
    }
   ],
   "source": [
    "numeros = [1, 2, 3, 4, 5, 6, 7, 8, 9, 10]\n",
    "pares = list(filter(lambda x: x % 2 == 0, numeros))\n",
    "print(pares)"
   ]
  },
  {
   "cell_type": "markdown",
   "metadata": {},
   "source": [
    "#### *Uso con `map()`*\n",
    "\n",
    "La función `map()` se utiliza para aplicar una función a cada elemento de una lista. Aquí hay un ejemplo que duplica cada número de una lista utilizando una función `lambda`:"
   ]
  },
  {
   "cell_type": "code",
   "execution_count": 103,
   "metadata": {},
   "outputs": [
    {
     "name": "stdout",
     "output_type": "stream",
     "text": [
      "[2, 4, 6, 8, 10]\n"
     ]
    }
   ],
   "source": [
    "numeros = [1, 2, 3, 4, 5]\n",
    "duplicados = list(map(lambda x: x * 2, numeros))\n",
    "print(duplicados)"
   ]
  },
  {
   "cell_type": "markdown",
   "metadata": {},
   "source": [
    "#### *Uso con `reduce()`*\n",
    "\n",
    "La función `reduce()` se utiliza para aplicar una función de forma acumulativa a los elementos de una secuencia, reduciéndolos a un único valor. En este ejemplo, sumamos todos los números de una lista utilizando una función `lambda`:"
   ]
  },
  {
   "cell_type": "code",
   "execution_count": 104,
   "metadata": {},
   "outputs": [
    {
     "name": "stdout",
     "output_type": "stream",
     "text": [
      "15\n"
     ]
    }
   ],
   "source": [
    "from functools import reduce\n",
    "\n",
    "numeros = [1, 2, 3, 4, 5]\n",
    "suma_total = reduce(lambda x, y: x + y, numeros)\n",
    "print(suma_total) "
   ]
  },
  {
   "cell_type": "markdown",
   "metadata": {},
   "source": [
    "##### *Ventajas y desventajas de las funciones `Lambda`*\n",
    "\n",
    "*Ventajas*:\n",
    "\n",
    "- Concisión: Permiten definir funciones de manera muy breve.\n",
    "\n",
    "- Flexibilidad: Se pueden utilizar en cualquier lugar donde se necesiten funciones pequeñas y desechables.\n",
    "\n",
    "- Claridad: Para funciones simples, pueden hacer que el código sea más legible al evitar la sobrecarga de definir una función completa.\n",
    "\n",
    "*Desventajas*:\n",
    "\n",
    "- Limitación en complejidad: Solo pueden contener una única expresión y no pueden incluir sentencias complejas.\n",
    "\n",
    "- Legibilidad: Para funciones más complejas, las lambdas pueden hacer que el código sea más difícil de leer y mantener.\n",
    "\n",
    "- Depuración: Dado que las lambdas no tienen nombre, pueden ser más difíciles de depurar en comparación con funciones normales."
   ]
  },
  {
   "cell_type": "markdown",
   "metadata": {},
   "source": [
    "### **Comparación con funciones normales**\n",
    "\n",
    "Comparemos una función `lambda` con una función definida utilizando `def` para realizar la misma operación (suma de dos números):\n",
    "\n",
    "#### *Función `lambda`:*"
   ]
  },
  {
   "cell_type": "code",
   "execution_count": 105,
   "metadata": {},
   "outputs": [
    {
     "name": "stdout",
     "output_type": "stream",
     "text": [
      "8\n"
     ]
    }
   ],
   "source": [
    "suma = lambda x, y: x + y\n",
    "print(suma(3, 5))  "
   ]
  },
  {
   "cell_type": "markdown",
   "metadata": {},
   "source": [
    "#### *Función normal:*"
   ]
  },
  {
   "cell_type": "code",
   "execution_count": 106,
   "metadata": {},
   "outputs": [
    {
     "name": "stdout",
     "output_type": "stream",
     "text": [
      "8\n"
     ]
    }
   ],
   "source": [
    "def suma(x, y):\n",
    "    return x + y\n",
    "\n",
    "print(suma(3, 5))"
   ]
  },
  {
   "cell_type": "markdown",
   "metadata": {},
   "source": [
    "Como se puede observar, la función `lambda` es más concisa, pero la función normal es más explícita y fácil de entender, especialmente para operaciones más complejas."
   ]
  },
  {
   "cell_type": "markdown",
   "metadata": {},
   "source": [
    "### **Aplicaciones prácticas de las funciones `Lambda`**\n",
    "\n",
    "#### *Ordenar listas de diccionarios*\n",
    "\n",
    "Las funciones `lambda` son útiles para ordenar listas de diccionarios. Por ejemplo, se puede ordenar una lista de personas por edad:"
   ]
  },
  {
   "cell_type": "code",
   "execution_count": 107,
   "metadata": {},
   "outputs": [
    {
     "name": "stdout",
     "output_type": "stream",
     "text": [
      "[{'nombre': 'Edward', 'edad': 22}, {'nombre': 'Axel', 'edad': 25}, {'nombre': 'James', 'edad': 30}]\n"
     ]
    }
   ],
   "source": [
    "personas = [\n",
    "    {\"nombre\": \"Axel\", \"edad\": 25},\n",
    "    {\"nombre\": \"James\", \"edad\": 30},\n",
    "    {\"nombre\": \"Edward\", \"edad\": 22}\n",
    "]\n",
    "ordenado_por_edad = sorted(personas, key=lambda persona: persona[\"edad\"])\n",
    "print(ordenado_por_edad)"
   ]
  },
  {
   "cell_type": "markdown",
   "metadata": {},
   "source": [
    "#### *Funciones `lambda` en expresiones condicionales*\n",
    "\n",
    "Las `lambdas` también pueden incluir expresiones condicionales:"
   ]
  },
  {
   "cell_type": "code",
   "execution_count": 108,
   "metadata": {},
   "outputs": [
    {
     "name": "stdout",
     "output_type": "stream",
     "text": [
      "20\n"
     ]
    }
   ],
   "source": [
    "maximo = lambda a, b: a if a > b else b\n",
    "print(maximo(10, 20)) "
   ]
  },
  {
   "cell_type": "markdown",
   "metadata": {},
   "source": [
    "#### *Composición de funciones*\n",
    "\n",
    "Se pueden utilizar `lambdas` para la composición de funciones:"
   ]
  },
  {
   "cell_type": "code",
   "execution_count": 109,
   "metadata": {},
   "outputs": [
    {
     "name": "stdout",
     "output_type": "stream",
     "text": [
      "49\n"
     ]
    }
   ],
   "source": [
    "f = lambda x: x**2\n",
    "g = lambda x: x + 2\n",
    "h = lambda x: f(g(x))\n",
    "print(h(5)) "
   ]
  },
  {
   "cell_type": "markdown",
   "metadata": {},
   "source": [
    "En este ejemplo, estamos llamando a la función h con el argumento 5 e imprimiendo el resultado.\n",
    "\n",
    "- Paso 1: g(5) => 5 + 2 => 7\n",
    "\n",
    "- Paso 2: f(7) => 7**2 => 49\n",
    "\n",
    "Por lo tanto, h(5) devuelve 49 y eso es lo que se imprime."
   ]
  },
  {
   "cell_type": "markdown",
   "metadata": {},
   "source": [
    "## **6.- ¿Qué es un paquete pip?**"
   ]
  },
  {
   "cell_type": "markdown",
   "metadata": {},
   "source": [
    "En Python, un paquete `pip` es una colección de módulos organizados de tal manera que puedan ser fácilmente distribuidos y reutilizados. El gestor de paquetes `pip` es una herramienta que permite instalar, actualizar y gestionar estos paquetes de manera sencilla y eficiente. Los paquetes `pip` juegan un papel crucial en el desarrollo de Python al facilitar la integración de bibliotecas de terceros en proyectos.\n",
    "\n",
    "\n",
    "`Pip`, que significa \"Pip Installs Packages\", es el gestor de paquetes estándar de Python. Se utiliza para instalar y gestionar paquetes y bibliotecas adicionales que no forman parte de la biblioteca estándar de Python. `Pip` es una herramienta que simplifica la instalación de paquetes desde el Python Package Index (PyPI) y otras fuentes.\n",
    "\n",
    "#### *Instalación de `pip`*\n",
    "\n",
    "`Pip` generalmente viene preinstalado con las versiones recientes de Python. Sin embargo, si se necesita instalarlo manualmente, los pasos a seguir son los siguientes:\n",
    "\n",
    "- Descargar el script get-pip.py desde https://bootstrap.pypa.io/get-pip.py\n",
    "\n",
    "- Ejecutar el script usando Python:"
   ]
  },
  {
   "cell_type": "markdown",
   "metadata": {},
   "source": [
    "```python\n",
    "python get-pip.py"
   ]
  },
  {
   "cell_type": "markdown",
   "metadata": {},
   "source": [
    "### **Comandos básicos de `pip`**\n",
    "\n",
    "#### *Instalar paquetes*\n",
    "\n",
    "Para instalar un paquete usando `pip`, utiliza el comando install seguido del nombre del paquete. Por ejemplo, para instalar el paquete `requests`:"
   ]
  },
  {
   "cell_type": "markdown",
   "metadata": {},
   "source": [
    "```python\n",
    "pip install requests"
   ]
  },
  {
   "cell_type": "markdown",
   "metadata": {},
   "source": [
    "#### *Listar paquetes instalados*\n",
    "\n",
    "Para listar todos los paquetes instalados en nuestro entorno, se debe usar el comando `list`:"
   ]
  },
  {
   "cell_type": "markdown",
   "metadata": {},
   "source": [
    "```python\n",
    "pip list"
   ]
  },
  {
   "cell_type": "markdown",
   "metadata": {},
   "source": [
    "#### *Actualizar paquetes*\n",
    "\n",
    "Para actualizar un paquete a la última versión disponible, se utiliza el comando install con la opción --upgrade:"
   ]
  },
  {
   "cell_type": "markdown",
   "metadata": {},
   "source": [
    "```python\n",
    "pip install --upgrade requests"
   ]
  },
  {
   "cell_type": "markdown",
   "metadata": {},
   "source": [
    "#### *Desinstalar paquetes*\n",
    "\n",
    "Para desinstalar un paquete, se usa el comando uninstall seguido del nombre del paquete:"
   ]
  },
  {
   "cell_type": "markdown",
   "metadata": {},
   "source": [
    "```python\n",
    "pip uninstall requests"
   ]
  },
  {
   "cell_type": "markdown",
   "metadata": {},
   "source": [
    "##### *Ejemplo*:\n",
    "\n",
    "#### *Instalación de una biblioteca de terceros*\n",
    "\n",
    "Si se requiere el uso de la biblioteca numpy para realizar cálculos numéricos, se puede instalar numpy usando pip:"
   ]
  },
  {
   "cell_type": "markdown",
   "metadata": {},
   "source": [
    "```python\n",
    "pip install numpy"
   ]
  },
  {
   "cell_type": "markdown",
   "metadata": {},
   "source": [
    "Posteriormente, se puede importar y usar numpy en nuestro código Python:"
   ]
  },
  {
   "cell_type": "code",
   "execution_count": 110,
   "metadata": {},
   "outputs": [
    {
     "name": "stdout",
     "output_type": "stream",
     "text": [
      "[[1 2 3]\n",
      " [4 5 6]]\n"
     ]
    }
   ],
   "source": [
    "import numpy as np\n",
    "\n",
    "# Crear una matriz de ejemplo\n",
    "matriz = np.array([[1, 2, 3], [4, 5, 6]])\n",
    "print(matriz)"
   ]
  }
 ],
 "metadata": {
  "kernelspec": {
   "display_name": "Python 3",
   "language": "python",
   "name": "python3"
  },
  "language_info": {
   "codemirror_mode": {
    "name": "ipython",
    "version": 3
   },
   "file_extension": ".py",
   "mimetype": "text/x-python",
   "name": "python",
   "nbconvert_exporter": "python",
   "pygments_lexer": "ipython3",
   "version": "3.12.3"
  }
 },
 "nbformat": 4,
 "nbformat_minor": 2
}
