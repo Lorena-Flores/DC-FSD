{
 "cells": [
  {
   "cell_type": "markdown",
   "metadata": {},
   "source": [
    "## **1.- ¿Para qué usamos Clases en Python?**"
   ]
  },
  {
   "cell_type": "markdown",
   "metadata": {},
   "source": [
    "### **Concepto General**\n",
    "\n",
    "Una clase es como un plano o molde para crear objetos. Define un conjunto de propiedades y métodos que los objetos derivados (instancias) pueden tener. Es como el diseño de un coche en una fábrica: especifica el color, modelo y componentes, pero no es un coche en sí hasta que se crea un objeto basado en ese diseño.\n",
    "\n",
    "Las clases son una herramienta fundamental en la Programación Orientada a Objetos (POO). Sirven para crear objetos que encapsulan datos y comportamientos relacionados. Esto permite que el código sea más modular, reutilizable y fácil de entender.\n",
    "\n",
    "### **Conceptos Clave**\n",
    "\n",
    "![Conceptos clave](POO.jpg)\n",
    "\n",
    "- Abstracción: Oculta la complejidad para el usuario final.\n",
    "\n",
    "- Encapsulación: Agrupa datos y funciones relacionadas.\n",
    "\n",
    "- Herencia: Permite crear nuevas clases basadas en otras existentes.\n",
    "\n",
    "- Polimorfismo: Permite usar un método de diferentes formas en distintas clases.\n",
    "\n",
    "\n",
    "### **¿Por qué y para qué utilizamos clases?**\n",
    "\n",
    "- Modelar el mundo real: Las clases permiten representar entidades de la vida real con atributos (datos) y comportamientos (métodos).\n",
    "\n",
    "    *Ejemplo*: Puedes modelar un coche con atributos como \"color\" y \"marca\", y comportamientos como \"acelerar\" y \"frenar\".\n",
    "\n",
    "- Encapsulamiento: Encapsulan datos y métodos, protegiendo la integridad de los datos.\n",
    "\n",
    "    *Beneficio*: Evitar que datos internos sean modificados de manera incorrecta.\n",
    "\n",
    "- Reutilización del código: Mediante la herencia, las clases permiten extender o reutilizar comportamientos existentes.\n",
    "\n",
    "    *Ejemplo*: Si tienes una clase general Animal, puedes crear subclases como Perro o Gato que heredan de Animal.\n",
    "\n",
    "- Flexibilidad y escalabilidad: Permiten crear programas más modulares y fáciles de mantener.\n",
    "\n",
    "\n",
    "### **Componentes clave de una clase**\n",
    "\n",
    "Aquí están los elementos esenciales de una clase en Python:\n",
    "\n",
    "\n",
    "- Atributos: Variables que guardan datos relacionados con los objetos.\n",
    "\n",
    "- Métodos: Funciones que definen los comportamientos de la clase.\n",
    "\n",
    "- Constructores (__init__): Método especial que inicializa una instancia de la clase.\n",
    "\n",
    "- Self: Referencia al propio objeto que se está manipulando.\n",
    "\n",
    "\n",
    "### **Definición de una clase:**"
   ]
  },
  {
   "cell_type": "code",
   "execution_count": null,
   "metadata": {},
   "outputs": [
    {
     "name": "stdout",
     "output_type": "stream",
     "text": [
      "El Toyota de color rojo está arrancando.\n",
      "El Honda está frenando.\n"
     ]
    }
   ],
   "source": [
    "# Clase básica para representar un coche\n",
    "class Coche:\n",
    "    # Constructor de la clase\n",
    "    def __init__(self, marca, color):\n",
    "        self.marca = marca  # Atributo 'marca'\n",
    "        self.color = color  # Atributo 'color'\n",
    "\n",
    "    # Método para arrancar el coche\n",
    "    def arrancar(self):\n",
    "        return f\"El {self.marca} de color {self.color} está arrancando.\"\n",
    "\n",
    "    # Método para frenar\n",
    "    def frenar(self):\n",
    "        return f\"El {self.marca} está frenando.\"\n",
    "\n",
    "# Crear instancias de la clase\n",
    "coche1 = Coche(\"Toyota\", \"rojo\")\n",
    "coche2 = Coche(\"Honda\", \"azul\")\n",
    "\n",
    "# Usar métodos de la clase\n",
    "print(coche1.arrancar()) \n",
    "print(coche2.frenar())    "
   ]
  },
  {
   "cell_type": "markdown",
   "metadata": {},
   "source": [
    "### **Herencia en Clases**\n",
    "\n",
    "La herencia permite que una clase (hija) herede atributos y métodos de otra clase (padre). Esto promueve la reutilización de código."
   ]
  },
  {
   "cell_type": "code",
   "execution_count": null,
   "metadata": {},
   "outputs": [
    {
     "name": "stdout",
     "output_type": "stream",
     "text": [
      "El animal hace un sonido.\n",
      "El perro ladra.\n"
     ]
    }
   ],
   "source": [
    "# Clase Padre\n",
    "class Animal:\n",
    "    def __init__(self, nombre):\n",
    "        self.nombre = nombre\n",
    "\n",
    "    def hacer_sonido(self):\n",
    "        return \"El animal hace un sonido.\"\n",
    "\n",
    "# Clase Hija\n",
    "class Perro(Animal):\n",
    "    def hacer_sonido(self):\n",
    "        return \"El perro ladra.\"\n",
    "\n",
    "# Crear instancias\n",
    "animal = Animal(\"Genérico\")\n",
    "perro = Perro(\"Firulais\")\n",
    "\n",
    "print(animal.hacer_sonido()) \n",
    "print(perro.hacer_sonido())   "
   ]
  },
  {
   "cell_type": "markdown",
   "metadata": {},
   "source": [
    "### **Polimorfismo**\n",
    "\n",
    "El polimorfismo permite usar un mismo método en diferentes clases, comportándose de manera distinta según la clase que lo implemente."
   ]
  },
  {
   "cell_type": "code",
   "execution_count": 81,
   "metadata": {},
   "outputs": [
    {
     "name": "stdout",
     "output_type": "stream",
     "text": [
      "El ave vuela alto.\n",
      "Los pingüinos no vuelan, pero nadan muy bien.\n"
     ]
    }
   ],
   "source": [
    "class Ave:\n",
    "    def volar(self):\n",
    "        return \"El ave vuela alto.\"\n",
    "\n",
    "class Pinguino(Ave):\n",
    "    def volar(self):\n",
    "        return \"Los pingüinos no vuelan, pero nadan muy bien.\"\n",
    "\n",
    "# Uso de polimorfismo\n",
    "animales = [Ave(), Pinguino()]\n",
    "for animal in animales:\n",
    "    print(animal.volar())"
   ]
  },
  {
   "cell_type": "markdown",
   "metadata": {},
   "source": [
    "### **Encapsulamiento: Atributos privados**\n",
    "\n",
    "Puedes proteger atributos usando un guion bajo (_) o doble guion bajo (__) para marcar atributos como privados."
   ]
  },
  {
   "cell_type": "code",
   "execution_count": 121,
   "metadata": {},
   "outputs": [
    {
     "name": "stdout",
     "output_type": "stream",
     "text": [
      "Saldo actual: 1500\n"
     ]
    }
   ],
   "source": [
    "class Cuenta:\n",
    "    def __init__(self, titular, saldo):\n",
    "        self.titular = titular\n",
    "        self.__saldo = saldo  # Atributo privado\n",
    "\n",
    "    def depositar(self, cantidad):\n",
    "        if cantidad > 0:\n",
    "            self.__saldo += cantidad\n",
    "        return f\"Saldo actual: {self.__saldo}\"\n",
    "\n",
    "    def __mostrar_saldo(self):  # Método privado\n",
    "        return self.__saldo\n",
    "\n",
    "# Crear una instancia\n",
    "mi_cuenta = Cuenta(\"Lorena\", 1000)\n",
    "print(mi_cuenta.depositar(500)) "
   ]
  },
  {
   "cell_type": "markdown",
   "metadata": {},
   "source": [
    "### **Conceptos avanzados**\n",
    "\n",
    "- Métodos estáticos: Se definen con @staticmethod y no dependen de la instancia de la clase."
   ]
  },
  {
   "cell_type": "code",
   "execution_count": 161,
   "metadata": {},
   "outputs": [
    {
     "name": "stdout",
     "output_type": "stream",
     "text": [
      "8\n"
     ]
    }
   ],
   "source": [
    "class Calculadora:\n",
    "    @staticmethod\n",
    "    def sumar(a, b):\n",
    "        return a + b\n",
    "\n",
    "print(Calculadora.sumar(3, 5)) "
   ]
  },
  {
   "cell_type": "markdown",
   "metadata": {},
   "source": [
    "- Clases abstractas: Usadas para definir métodos comunes que deben ser implementados por subclases."
   ]
  },
  {
   "cell_type": "code",
   "execution_count": 201,
   "metadata": {},
   "outputs": [
    {
     "name": "stdout",
     "output_type": "stream",
     "text": [
      "78.5\n"
     ]
    }
   ],
   "source": [
    "from abc import ABC, abstractmethod\n",
    "\n",
    "class Figura(ABC):\n",
    "    @abstractmethod\n",
    "    def area(self):\n",
    "        pass\n",
    "\n",
    "class Circulo(Figura):\n",
    "    def __init__(self, radio):\n",
    "        self.radio = radio\n",
    "\n",
    "    def area(self):\n",
    "        return 3.14 * self.radio ** 2\n",
    "\n",
    "circulo = Circulo(5)\n",
    "print(circulo.area()) "
   ]
  },
  {
   "cell_type": "markdown",
   "metadata": {},
   "source": [
    "### **Relación entre una clase y una instancia**"
   ]
  },
  {
   "cell_type": "code",
   "execution_count": 109,
   "metadata": {},
   "outputs": [
    {
     "data": {
      "image/png": "[encoded data removed]",
      "text/plain": [
       "<Figure size 640x480 with 1 Axes>"
      ]
     },
     "metadata": {},
     "output_type": "display_data"
    }
   ],
   "source": [
    "import matplotlib.pyplot as plt\n",
    "\n",
    "import warnings\n",
    "warnings.filterwarnings(\"ignore\")\n",
    "\n",
    "fig, ax = plt.subplots()\n",
    "\n",
    "# Dibujar la clase\n",
    "ax.add_patch(plt.Rectangle((0.2, 0.5), 0.6, 0.3, fill=True, color=\"lightblue\", edgecolor=\"blue\", linewidth=2))\n",
    "ax.text(0.5, 0.65, \"Clase\\n(Persona)\", fontsize=12, ha=\"center\")\n",
    "\n",
    "# Dibujar la instancia\n",
    "ax.add_patch(plt.Rectangle((0.35, 0.2), 0.3, 0.2, fill=True, color=\"lightgreen\", edgecolor=\"green\", linewidth=2))\n",
    "ax.text(0.5, 0.27, \"Instancia\\n(Lorena)\", fontsize=12, ha=\"center\")\n",
    "\n",
    "# Flecha entre clase e instancia\n",
    "ax.annotate(\"\", xy=(0.5, 0.5), xytext=(0.5, 0.4), arrowprops=dict(facecolor='black', shrink=0.05))\n",
    "\n",
    "# Configuración de los ejes\n",
    "ax.axis(\"off\")\n",
    "plt.show()"
   ]
  },
  {
   "cell_type": "markdown",
   "metadata": {},
   "source": [
    "##### *Descripción:*\n",
    "\n",
    "El rectángulo azul representa la clase Persona.\n",
    "\n",
    "El rectángulo verde representa una instancia llamada Lorena."
   ]
  },
  {
   "cell_type": "markdown",
   "metadata": {},
   "source": [
    "## **2.- ¿Qué método se ejecuta automáticamente cuando se crea una instancia de una clase?**"
   ]
  },
  {
   "cell_type": "markdown",
   "metadata": {},
   "source": [
    "### **El Método `__init__` en Python**\n",
    "\n",
    "El método `__init__` es el constructor de una clase en Python. Se llama automáticamente cuando se crea una nueva instancia de una clase (es decir, cuando \"instanciamos\" un objeto). Su propósito principal es inicializar los atributos del objeto con valores iniciales y preparar el objeto para su uso.\n",
    "\n",
    "### **¿Por qué y para qué se utiliza?**\n",
    "\n",
    "- Inicialización de atributos: Permite asignar valores a los atributos de una instancia en el momento de su creación.\n",
    "\n",
    "    *Ejemplo*: Si tienes una clase Persona, puedes establecer su nombre y edad en el momento en que se crea el objeto.\n",
    "\n",
    "- Automatización: Evita la necesidad de inicializar manualmente los atributos después de crear un objeto. Todo esto ocurre de manera automática.\n",
    "\n",
    "- Personalización de objetos: Puedes definir parámetros en el método `__init__` para personalizar cada instancia de la clase.\n",
    "\n",
    "\n",
    "### **Sintaxis del Método `__init__`**\n",
    "\n",
    "La estructura básica es:"
   ]
  },
  {
   "cell_type": "markdown",
   "metadata": {},
   "source": [
    "Los bucles son estructuras de control que permiten ejecutar un bloque de código repetidamente mientras se cumpla una condición. Son útiles para automatizar tareas repetitivas, procesar datos y simplificar el código. En Python, los principales tipos de bucles son `for` y `while`."
   ]
  },
  {
   "cell_type": "markdown",
   "metadata": {},
   "source": [
    "```python\n",
    "class Clase:\n",
    "    def __init__(self, parámetros):\n",
    "        self.atributo1 = valor1\n",
    "        self.atributo2 = valor2"
   ]
  },
  {
   "cell_type": "markdown",
   "metadata": {},
   "source": [
    "- self: Es una referencia al propio objeto que se está creando. Es obligatorio como primer parámetro en cualquier método de instancia.\n",
    "\n",
    "- Parámetros: Puedes pasar tantos parámetros como necesites para inicializar los atributos.\n",
    "\n",
    "##### *Ejemplo:*"
   ]
  },
  {
   "cell_type": "code",
   "execution_count": 110,
   "metadata": {},
   "outputs": [
    {
     "name": "stdout",
     "output_type": "stream",
     "text": [
      "Hola, me llamo Jasmine y tengo 27 años.\n"
     ]
    }
   ],
   "source": [
    "class Persona:\n",
    "    # Constructor de la clase\n",
    "    def __init__(self, nombre, edad):\n",
    "        self.nombre = nombre  # Atributo nombre\n",
    "        self.edad = edad      # Atributo edad\n",
    "\n",
    "    def presentar(self):\n",
    "        return f\"Hola, me llamo {self.nombre} y tengo {self.edad} años.\"\n",
    "\n",
    "# Crear una instancia\n",
    "persona1 = Persona(\"Jasmine\", 27)\n",
    "\n",
    "# Usar el objeto\n",
    "print(persona1.presentar())  "
   ]
  },
  {
   "cell_type": "markdown",
   "metadata": {},
   "source": [
    "##### *Explicación*:\n",
    "\n",
    "- `__init__`: Se ejecuta automáticamente cuando se crea persona1 y asigna nombre=\"Jasmine\" y edad=27.\n",
    "\n",
    "- Atributos: Los valores se almacenan como atributos del objeto, accesibles mediante self.atributo.\n",
    "\n",
    "### **¿Qué sucede si no definimos `__init__`?**\n",
    "\n",
    "Si no defines un método `__init__`, Python utiliza un constructor por defecto que no inicializa ningún atributo. Esto puede ser útil si tu clase no necesita datos iniciales."
   ]
  },
  {
   "cell_type": "code",
   "execution_count": 111,
   "metadata": {},
   "outputs": [
    {
     "name": "stdout",
     "output_type": "stream",
     "text": [
      "El animal hace un sonido.\n"
     ]
    }
   ],
   "source": [
    "class Animal:\n",
    "    def hacer_sonido(self):\n",
    "        return \"El animal hace un sonido.\"\n",
    "\n",
    "# Crear una instancia\n",
    "animal = Animal()\n",
    "print(animal.hacer_sonido()) "
   ]
  },
  {
   "cell_type": "markdown",
   "metadata": {},
   "source": [
    "Sin embargo, si necesitas inicializar atributos, es imprescindible definir el método `__init__`.\n",
    "\n",
    "##### *Ejemplo*:"
   ]
  },
  {
   "cell_type": "code",
   "execution_count": 112,
   "metadata": {},
   "outputs": [
    {
     "name": "stdout",
     "output_type": "stream",
     "text": [
      "Depósito realizado. Saldo actual: 1500\n",
      "Retiro realizado. Saldo actual: 800\n"
     ]
    }
   ],
   "source": [
    "class CuentaBancaria:\n",
    "    def __init__(self, titular, saldo_inicial):\n",
    "        self.titular = titular\n",
    "        self.saldo = saldo_inicial  # Inicialización de saldo\n",
    "\n",
    "    def depositar(self, cantidad):\n",
    "        self.saldo += cantidad\n",
    "        return f\"Depósito realizado. Saldo actual: {self.saldo}\"\n",
    "\n",
    "    def retirar(self, cantidad):\n",
    "        if cantidad > self.saldo:\n",
    "            return \"Fondos insuficientes.\"\n",
    "        self.saldo -= cantidad\n",
    "        return f\"Retiro realizado. Saldo actual: {self.saldo}\"\n",
    "\n",
    "# Crear una instancia\n",
    "mi_cuenta = CuentaBancaria(\"Lorena\", 1000)\n",
    "\n",
    "# Operaciones\n",
    "print(mi_cuenta.depositar(500))  \n",
    "print(mi_cuenta.retirar(700))    "
   ]
  },
  {
   "cell_type": "markdown",
   "metadata": {},
   "source": [
    "### **Consideraciones Avanzadas**\n",
    "\n",
    "- Atributos con valores predeterminados\n",
    "\n",
    "Puedes establecer valores predeterminados para ciertos parámetros si no quieres que sean obligatorios."
   ]
  },
  {
   "cell_type": "code",
   "execution_count": 113,
   "metadata": {},
   "outputs": [
    {
     "name": "stdout",
     "output_type": "stream",
     "text": [
      "100\n",
      "300\n"
     ]
    }
   ],
   "source": [
    "class Producto:\n",
    "    def __init__(self, nombre, precio=100):\n",
    "        self.nombre = nombre\n",
    "        self.precio = precio\n",
    "\n",
    "producto1 = Producto(\"Laptop\")\n",
    "producto2 = Producto(\"Teléfono\", 300)\n",
    "\n",
    "print(producto1.precio) \n",
    "print(producto2.precio)  "
   ]
  },
  {
   "cell_type": "markdown",
   "metadata": {},
   "source": [
    "- Validación de datos en el `__init__`\n",
    "\n",
    "Puedes incluir validaciones para garantizar que los datos iniciales sean correctos."
   ]
  },
  {
   "cell_type": "code",
   "execution_count": 114,
   "metadata": {},
   "outputs": [],
   "source": [
    "class Estudiante:\n",
    "    def __init__(self, nombre, edad):\n",
    "        if edad < 0:\n",
    "            raise ValueError(\"La edad no puede ser negativa.\")\n",
    "        self.nombre = nombre\n",
    "        self.edad = edad\n",
    "\n",
    "# Crear una instancia válida\n",
    "estudiante = Estudiante(\"Juan\", 20)"
   ]
  },
  {
   "cell_type": "markdown",
   "metadata": {},
   "source": [
    "### **¿Qué otros métodos especiales están relacionados?**\n",
    "\n",
    "El método `__init__` es solo uno de los métodos mágicos o dunder methods (doble guion bajo) que Python ofrece. Aquí algunos relacionados:\n",
    "\n",
    "- `__str__`: Define cómo se representa el objeto como una cadena.\n",
    "\n",
    "```python\n",
    "def __str__(self):\n",
    "    return f\"Persona(nombre={self.nombre}, edad={self.edad})\""
   ]
  },
  {
   "cell_type": "markdown",
   "metadata": {},
   "source": [
    "- __del__: Se llama cuando se elimina un objeto.\n",
    "\n",
    "```python\n",
    "def __del__(self):\n",
    "    print(\"Objeto eliminado.\")"
   ]
  },
  {
   "cell_type": "markdown",
   "metadata": {},
   "source": [
    "- __new__: Se ejecuta antes de __init__. Se usa para controlar la creación del objeto."
   ]
  },
  {
   "cell_type": "markdown",
   "metadata": {},
   "source": [
    "## **3.- ¿Cuáles son los tres verbos de API?**"
   ]
  },
  {
   "cell_type": "markdown",
   "metadata": {},
   "source": [
    "<img src=\"api.jpg\" alt=\"API Image\" width=\"400\" />\n",
    "\n",
    "Application Programming Interface (API) es la Interfaz de Programación de Aplicaciones. Es un conjunto de reglas y protocolos que permite que dos sistemas o aplicaciones se comuniquen e interactúen entre sí, compartiendo información y funcionalidades.\n",
    "\n",
    "- Una API actúa como un intermediario que permite que diferentes programas trabajen juntos, sin importar el lenguaje o la tecnología en la que estén construidos.\n",
    "\n",
    "- En términos simples, es como un puente entre dos sistemas: uno solicita información y el otro responde.\n",
    "\n",
    "### **Ejemplo de la vida real**\n",
    "\n",
    "Piensa en una API como el menú de un restaurante. El menú te muestra lo que puedes pedir (recursos disponibles) y el camarero (la API) lleva tu pedido a la cocina (el sistema) y te trae la comida preparada (la respuesta del servidor).\n",
    "\n",
    "### **¿Cómo funciona una API REST?**\n",
    "\n",
    "Las APIs REST (Representational State Transfer) son un tipo común de API que utiliza el protocolo HTTP para la comunicación. Las operaciones en una API REST se realizan sobre recursos, que son representaciones de datos en el sistema, como usuarios, productos, órdenes, etc.\n",
    "\n",
    "- Cada recurso tiene una URL única (como una dirección).\n",
    "\n",
    "- Los verbos HTTP se utilizan para realizar acciones específicas sobre esos recursos.\n",
    "\n",
    "### **Los Tres Verbos Principales de las APIs REST: `GET`, `POST` y `DELETE`**\n",
    "\n",
    "#### **1. Verbo `GET`**\n",
    "\n",
    "El verbo `GET` se utiliza para obtener información de un recurso. Es un método de solo lectura que no altera los datos del servidor.\n",
    "\n",
    "- *Ejemplo*: Consultar la lista de usuarios o los detalles de un producto.\n",
    "\n",
    "### **Sintaxis típica en una API:**\n",
    "\n",
    "GET /usuarios\n",
    "\n",
    "### **Respuesta del servidor (JSON):**\n",
    "\n",
    "[\n",
    "    {\"id\": 1, \"nombre\": \"Lorena\", \"edad\": 25},\n",
    "    {\"id\": 2, \"nombre\": \"Juan\", \"edad\": 30}\n",
    "]\n",
    "\n",
    "#### **2. Verbo `POST`**\n",
    "\n",
    "El verbo `POST` se utiliza para crear nuevos recursos en el servidor. Escribe o guarda datos que no existían previamente.\n",
    "\n",
    "- *Ejemplo*: Registrar un nuevo usuario o añadir un nuevo producto.\n",
    "\n",
    "### **Sintaxis típica en una API:**\n",
    "\n",
    "POST /usuarios\n",
    "\n",
    "### **Cuerpo de la solicitud:**\n",
    "\n",
    "{\n",
    "    \"nombre\": \"Lorena\",\n",
    "    \"edad\": 25\n",
    "}\n",
    "\n",
    "#### **3. Verbo `DELETE`**\n",
    "\n",
    "El verbo `DELETE` se utiliza para eliminar un recurso específico en el servidor.\n",
    "\n",
    "- *Ejemplo*: Eliminar un usuario o borrar un producto de un catálogo.\n",
    "\n",
    "### **Sintaxis típica en una API:**\n",
    "\n",
    "DELETE /usuarios/1\n",
    "\n",
    "### **Respuesta del servidor:**\n",
    "\n",
    "{\n",
    "    \"mensaje\": \"Usuario eliminado con éxito\"\n",
    "}"
   ]
  },
  {
   "cell_type": "markdown",
   "metadata": {},
   "source": [
    "| **Verbo HTTP** | **Propósito**         | **Idempotente** | **Seguro** | **Ejemplo**             |\n",
    "|----------------|-----------------------|-----------------|------------|-------------------------|\n",
    "| GET            | Obtener recursos      | Sí              | Sí         | GET /usuarios           |\n",
    "| POST           | Crear recursos        | No              | No         | POST /usuarios          |\n",
    "| DELETE         | Eliminar recursos     | Sí              | No         | DELETE /usuarios/1      |"
   ]
  },
  {
   "cell_type": "markdown",
   "metadata": {},
   "source": [
    "### **Operaciones más comunes de una API: `GET`, `POST`, y `DELETE`.**"
   ]
  },
  {
   "cell_type": "code",
   "execution_count": 115,
   "metadata": {},
   "outputs": [
    {
     "data": {
      "image/png": "[encoded data removed]",
      "text/plain": [
       "<Figure size 640x480 with 1 Axes>"
      ]
     },
     "metadata": {},
     "output_type": "display_data"
    }
   ],
   "source": [
    "import matplotlib.pyplot as plt\n",
    "\n",
    "verbs = ['GET', 'POST', 'DELETE']\n",
    "operations = [70, 20, 10]  # Representa el porcentaje de uso aproximado\n",
    "\n",
    "# Gráfico circular\n",
    "plt.pie(operations, labels=verbs, autopct='%1.1f%%', startangle=140, colors=['lightblue', 'lightgreen', 'lightcoral'])\n",
    "plt.title(\"Distribución de los Verbos de API\")\n",
    "plt.show()"
   ]
  },
  {
   "cell_type": "markdown",
   "metadata": {},
   "source": [
    "##### *Descripción:*\n",
    "\n",
    "Este gráfico circular muestra la proporción aproximada del uso de los verbos. Por ejemplo:\n",
    "\n",
    "- `GET` se usa para obtener datos (frecuente).\n",
    "\n",
    "- `POST` se usa para enviar datos.\n",
    "\n",
    "- `DELETE` se usa para eliminar datos."
   ]
  },
  {
   "cell_type": "markdown",
   "metadata": {},
   "source": [
    "## **4.- ¿Es MongoDB una base de datos SQL o NoSQL?**"
   ]
  },
  {
   "cell_type": "markdown",
   "metadata": {},
   "source": [
    "![Mongodb](mongodb.png)\n",
    "\n",
    "MongoDB es una base de datos NoSQL, lo que significa que no sigue el modelo relacional clásico de las bases de datos SQL (Structured Query Language). En lugar de almacenar datos en tablas con filas y columnas fijas, MongoDB utiliza una estructura de datos basada en documentos. Esto tiene varias implicaciones importantes:\n",
    "\n",
    "### **¿Qué significa que sea NoSQL?**\n",
    "\n",
    "- Las bases de datos NoSQL son diseñadas para manejar grandes volúmenes de datos no estructurados o semi-estructurados.\n",
    "\n",
    "- Son más flexibles, ya que no necesitan un esquema fijo (es decir, no necesitas definir con antelación las columnas y sus tipos de datos, como ocurre en SQL).\n",
    "\n",
    "### **¿Cómo almacena los datos MongoDB?**\n",
    "\n",
    "- MongoDB utiliza documentos que tienen un formato similar a JSON (JavaScript Object Notation). Por ejemplo:\n",
    "\n",
    "json\n",
    "{\n",
    "  \"nombre\": \"Juan\",\n",
    "  \"edad\": 25,\n",
    "  \"hobbies\": [\"leer\", \"programar\", \"viajar\"]\n",
    "}\n",
    "\n",
    "- Cada documento se guarda en una colección (equivalente a una tabla en bases de datos SQL).\n",
    "\n",
    "### **Ventajas de MongoDB frente a las bases de datos SQL:**\n",
    "\n",
    "- Escalabilidad horizontal: Permite dividir los datos entre varios servidores fácilmente.\n",
    "\n",
    "- Alta velocidad: Ideal para manejar grandes cantidades de datos en tiempo real.\n",
    "\n",
    "- Evolución constante: Puedes agregar o modificar campos en los documentos sin preocuparte por romper el esquema.\n",
    "\n",
    "### **Casos de uso de MongoDB:**\n",
    "\n",
    "- Aplicaciones web modernas como redes sociales.\n",
    "\n",
    "- Gestión de datos de IoT (Internet de las cosas).\n",
    "\n",
    "- Aplicaciones en tiempo real, como chats o servicios de streaming.\n",
    "\n",
    "### **Comparación con SQL:**\n",
    "\n",
    "- Mientras que SQL funciona mejor para sistemas que requieren estructuras de datos rígidas y relaciones complejas, MongoDB brilla en escenarios donde los datos son dinámicos y variados."
   ]
  },
  {
   "cell_type": "markdown",
   "metadata": {},
   "source": [
    "## **5.- ¿Qué es una API?**"
   ]
  },
  {
   "cell_type": "markdown",
   "metadata": {},
   "source": [
    "Una API (Interfaz de Programación de Aplicaciones, en inglés Application Programming Interface) es un conjunto de herramientas y reglas que permite que dos aplicaciones interactúen entre sí. Piensa en una API como un \"intermediario\" que facilita la comunicación entre distintos sistemas o programas.\n",
    "\n",
    "### **¿Cómo funciona una API?**\n",
    "\n",
    "- Supongamos que estás usando una aplicación de entrega de comida. Cuando seleccionas un restaurante y realizas un pedido, la aplicación utiliza APIs para:\n",
    "\n",
    "    - Obtener los datos del restaurante (menú, ubicación, horarios).\n",
    "\n",
    "    - Enviar el pedido a la cocina.\n",
    "\n",
    "    - Realizar el pago en línea a través de un servicio externo.\n",
    "\n",
    "- La API es la responsable de conectar todos estos sistemas de manera transparente para el usuario.\n",
    "\n",
    "### **Componentes básicos de una API:**\n",
    "\n",
    "- Request (Solicitud): Lo que envías al servidor, generalmente a través de una URL o un cuerpo de solicitud (en formato JSON o XML).\n",
    "\n",
    "- Response (Respuesta): Lo que recibes del servidor, como datos o confirmaciones.\n",
    "\n",
    "### **Tipos de APIs:**\n",
    "\n",
    "- APIs REST (Representational State Transfer): Son las más usadas y se basan en el protocolo HTTP. Ejemplo: Cuando haces una búsqueda en Google, la API REST devuelve los resultados.\n",
    "\n",
    "- APIs SOAP (Simple Object Access Protocol): Más complejas y específicas, pero son usadas en aplicaciones empresariales.\n",
    "\n",
    "- GraphQL: Proporciona consultas más precisas y personalizadas. Por ejemplo, puedes obtener únicamente los datos que necesitas, en lugar de una respuesta completa.\n",
    "\n",
    "### **Usos comunes:**\n",
    "\n",
    "- Integrar sistemas: Por ejemplo, conectar un sistema de inventario con una tienda en línea.\n",
    "\n",
    "- Desarrollo de aplicaciones: Los desarrolladores utilizan APIs para interactuar con servicios externos como mapas, pagos, o almacenamiento en la nube."
   ]
  },
  {
   "cell_type": "markdown",
   "metadata": {},
   "source": [
    "### **Flujo Cliente-API-Servidor**"
   ]
  },
  {
   "cell_type": "code",
   "execution_count": 116,
   "metadata": {},
   "outputs": [
    {
     "data": {
      "image/png": "[encoded data removed]",
      "text/plain": [
       "<Figure size 800x400 with 1 Axes>"
      ]
     },
     "metadata": {},
     "output_type": "display_data"
    }
   ],
   "source": [
    "import matplotlib.pyplot as plt\n",
    "from matplotlib.patches import FancyArrowPatch\n",
    "\n",
    "# Crear figura y ejes\n",
    "fig, ax = plt.subplots(figsize=(8, 4))\n",
    "\n",
    "# Añadir elementos de texto (Cliente, API, Servidor)\n",
    "ax.text(0.1, 0.5, \"Cliente\", fontsize=12, color=\"blue\", bbox=dict(facecolor='lightblue', edgecolor='blue'))\n",
    "ax.text(0.45, 0.5, \"API\", fontsize=12, color=\"red\", bbox=dict(facecolor='pink', edgecolor='red'))\n",
    "ax.text(0.8, 0.5, \"Servidor\", fontsize=12, color=\"green\", bbox=dict(facecolor='lightgreen', edgecolor='green'))\n",
    "\n",
    "# Dibujar flechas para el flujo\n",
    "arrow1 = FancyArrowPatch((0.25, 0.55), (0.4, 0.55), arrowstyle=\"->\", color=\"black\", mutation_scale=15)\n",
    "arrow2 = FancyArrowPatch((0.6, 0.55), (0.75, 0.55), arrowstyle=\"->\", color=\"black\", mutation_scale=15)\n",
    "arrow3 = FancyArrowPatch((0.75, 0.45), (0.6, 0.45), arrowstyle=\"->\", color=\"black\", mutation_scale=15)\n",
    "arrow4 = FancyArrowPatch((0.4, 0.45), (0.25, 0.45), arrowstyle=\"->\", color=\"black\", mutation_scale=15)\n",
    "\n",
    "# Añadir flechas al eje\n",
    "ax.add_patch(arrow1)\n",
    "ax.add_patch(arrow2)\n",
    "ax.add_patch(arrow3)\n",
    "ax.add_patch(arrow4)\n",
    "\n",
    "# Añadir etiquetas a las flechas\n",
    "ax.text(0.3, 0.6, \"Solicitud\", fontsize=10, ha=\"center\")\n",
    "ax.text(0.7, 0.6, \"Procesar\", fontsize=10, ha=\"center\")\n",
    "ax.text(0.7, 0.4, \"Respuesta\", fontsize=10, ha=\"center\")\n",
    "ax.text(0.3, 0.4, \"Devolver datos\", fontsize=10, ha=\"center\")\n",
    "\n",
    "# Configuración de los ejes\n",
    "ax.set_xlim(0, 1)\n",
    "ax.set_ylim(0, 1)\n",
    "ax.axis(\"off\")  # Quitar ejes para mayor claridad\n",
    "\n",
    "plt.title(\"Flujo entre Cliente, API y Servidor\", fontsize=14)\n",
    "plt.show()\n"
   ]
  },
  {
   "cell_type": "markdown",
   "metadata": {},
   "source": [
    "##### *Descripción:*\n",
    "\n",
    "- Cliente (izquierda): Inicia el proceso enviando una solicitud a través de la API.\n",
    "\n",
    "- API (centro): Actúa como intermediaria, procesando y transfiriendo la solicitud al servidor.\n",
    "\n",
    "- Servidor (derecha): Procesa la solicitud, genera la respuesta y la envía de vuelta a la API.\n",
    "\n",
    "- Flechas bidireccionales: Muestran el flujo de datos entre el cliente, la API y el servidor (solicitudes y respuestas)."
   ]
  },
  {
   "cell_type": "markdown",
   "metadata": {},
   "source": [
    "## **6.- ¿Qué es Postman?**"
   ]
  },
  {
   "cell_type": "markdown",
   "metadata": {},
   "source": [
    "Postman es una herramienta que los desarrolladores usan para trabajar con APIs. Simplifica el proceso de crear, probar y documentar APIs, especialmente para personas que no están familiarizadas con los aspectos técnicos más complejos.\n",
    "\n",
    "### **¿Para qué se utiliza Postman?**\n",
    "\n",
    "- Probar APIs: Puedes enviar solicitudes a una API y verificar sus respuestas.\n",
    "\n",
    "- Simular datos: Por ejemplo, puedes enviar datos falsos a una API para asegurarte de que funcione correctamente.\n",
    "\n",
    "- Automatizar pruebas: Postman permite crear colecciones de pruebas automáticas para garantizar que una API siga funcionando después de realizar cambios.\n",
    "\n",
    "\n",
    "### **Interfaz de Postman:**\n",
    "\n",
    "- Incluye un editor visual donde puedes ingresar las solicitudes HTTP (como GET, POST, PUT, DELETE).\n",
    "\n",
    "- Permite ver respuestas detalladas, como códigos de estado (200, 404, 500) o datos JSON.\n",
    "\n",
    "- Ejemplo de prueba:\n",
    "\n",
    "  - Solicitud: GET https://api.ejemplo.com/usuarios\n",
    "\n",
    "  - Respuesta (JSON):\n",
    "\n",
    "[\n",
    "  {\"id\": 1, \"nombre\": \"Lorena\"},\n",
    "  {\"id\": 2, \"nombre\": \"Juan\"}\n",
    "]\n",
    "\n",
    "### **¿Quién utiliza Postman?**\n",
    "\n",
    "- Desarrolladores: Para verificar que las APIs funcionan correctamente.\n",
    "\n",
    "- Testers: Para encontrar errores o inconsistencias.\n",
    "\n",
    "- Equipos de software: Para documentar cómo se debe usar una API.\n",
    "\n",
    "\n",
    "### **Beneficios:**\n",
    "\n",
    "- Ahorra tiempo al probar APIs.\n",
    "\n",
    "- No necesitas un programa complicado, solo Postman.\n",
    "\n",
    "- Tiene opciones avanzadas para usuarios experimentados, pero es sencillo para principiantes.\n"
   ]
  },
  {
   "cell_type": "markdown",
   "metadata": {},
   "source": [
    "## **7.- ¿Qué es el polimorfismo?**"
   ]
  },
  {
   "cell_type": "markdown",
   "metadata": {},
   "source": [
    "El polimorfismo es un concepto fundamental de la programación orientada a objetos que permite que una misma acción se comporte de diferentes maneras dependiendo del contexto. El término \"polimorfismo\" proviene del griego y significa \"muchas formas\". En programación, esto implica que un método, objeto o función puede tomar varias formas.\n",
    "\n",
    "### **Explicación del concepto:**\n",
    "\n",
    "- Objetivo del polimorfismo:\n",
    "\n",
    "    - Facilitar la reutilización de código.\n",
    "\n",
    "    - Permitir a los desarrolladores escribir programas más flexibles y escalables.\n",
    "\n",
    "    - Manejar diferentes tipos de datos de manera uniforme.\n",
    "\n",
    "- Tipos de polimorfismo:\n",
    "\n",
    "    - Polimorfismo en tiempo de compilación: También conocido como sobrecarga (overloading). Ocurre cuando tienes múltiples métodos con el mismo nombre pero diferentes firmas (es decir, número o tipo de argumentos).\n",
    "\n",
    "    - Polimorfismo en tiempo de ejecución: También conocido como sobreescritura (overriding). Permite que una clase hija modifique el comportamiento de un método heredado de la clase padre.\n",
    "\n",
    "### **Polimorfismo en Tiempo de Compilación (Sobrecarga)**\n",
    "\n",
    "Se da cuando definimos varios métodos o funciones con el mismo nombre, pero distintas firmas. El compilador decide qué método usar basándose en los parámetros proporcionados.\n",
    "\n",
    "##### *Ejemplo en Java:*"
   ]
  },
  {
   "cell_type": "markdown",
   "metadata": {
    "vscode": {
     "languageId": "javascript"
    }
   },
   "source": [
    "```java\n",
    "class Calculadora {\n",
    "    // Suma de dos números enteros\n",
    "    int sumar(int a, int b) {\n",
    "        return a + b;\n",
    "    }\n",
    "    \n",
    "    // Suma de tres números enteros\n",
    "    int sumar(int a, int b, int c) {\n",
    "        return a + b + c;\n",
    "    }\n",
    "}\n",
    "\n",
    "public class Main {\n",
    "    public static void main(String[] args) {\n",
    "        Calculadora calc = new Calculadora();\n",
    "        System.out.println(calc.sumar(5, 10)); // Llama al método con 2 parámetros\n",
    "        System.out.println(calc.sumar(5, 10, 15)); // Llama al método con 3 parámetros\n",
    "    }\n",
    "}"
   ]
  },
  {
   "cell_type": "markdown",
   "metadata": {},
   "source": [
    "##### *Resultado:*\n",
    "\n",
    "- El método sumar se comporta de manera diferente dependiendo del número de argumentos proporcionados.\n",
    "\n",
    "### **Polimorfismo en Tiempo de Ejecución (Sobreescritura)**\n",
    "\n",
    "Sucede cuando una clase hija redefine un método de la clase padre. Esto permite que un objeto de tipo hijo utilice su propia implementación del método, incluso si es tratado como un objeto de la clase padre.\n",
    "\n",
    "##### *Ejemplo en Java:*\n",
    "\n",
    "```java\n",
    "// Clase Padre\n",
    "class Animal {\n",
    "    void hacerSonido() {\n",
    "        System.out.println(\"El animal hace un sonido\");\n",
    "    }\n",
    "}\n",
    "\n",
    "// Clase Hija\n",
    "class Perro extends Animal {\n",
    "    @Override\n",
    "    void hacerSonido() {\n",
    "        System.out.println(\"El perro ladra\");\n",
    "    }\n",
    "}\n",
    "\n",
    "// Clase Principal\n",
    "public class Main {\n",
    "    public static void main(String[] args) {\n",
    "        Animal miAnimal = new Perro(); // Polimorfismo\n",
    "        miAnimal.hacerSonido(); // Llama al método 'hacerSonido' de la clase Perro\n",
    "    }\n",
    "}"
   ]
  },
  {
   "cell_type": "markdown",
   "metadata": {},
   "source": [
    "##### *Resultado:*\n",
    "\n",
    "- Aunque miAnimal se declara como un objeto de la clase Animal, en tiempo de ejecución ejecuta el método de la clase Perro.\n",
    "\n",
    "### **Ventajas del Polimorfismo**\n",
    "\n",
    "- Reutilización del Código:\n",
    "\n",
    "    - Permite escribir código genérico que funcione con diferentes tipos de objetos.\n",
    "\n",
    "    - Ejemplo: Una función que procese listas de diferentes tipos de datos.\n",
    "\n",
    "- Extensibilidad:\n",
    "\n",
    "    - Facilita la adición de nuevas clases o métodos sin cambiar el código existente.\n",
    "\n",
    "- Facilita el Mantenimiento:\n",
    "\n",
    "    - Los programas se vuelven más legibles y fáciles de mantener.\n",
    "\n",
    "### **Otros Lenguajes y Ejemplos**\n",
    "\n",
    "El polimorfismo no es exclusivo de Java; otros lenguajes de programación también lo implementan. Por ejemplo:\n",
    "\n",
    "- Python:\n",
    "\n",
    "En Python, no necesitas especificar tipos de datos, por lo que el polimorfismo se da de manera más natural."
   ]
  },
  {
   "cell_type": "code",
   "execution_count": 117,
   "metadata": {},
   "outputs": [
    {
     "name": "stdout",
     "output_type": "stream",
     "text": [
      "El perro ladra\n",
      "El gato maúlla\n"
     ]
    }
   ],
   "source": [
    "class Perro:\n",
    "    def hacer_sonido(self):\n",
    "        return \"El perro ladra\"\n",
    "\n",
    "class Gato:\n",
    "    def hacer_sonido(self):\n",
    "        return \"El gato maúlla\"\n",
    "\n",
    "# Función polimórfica\n",
    "def emitir_sonido(animal):\n",
    "    print(animal.hacer_sonido())\n",
    "\n",
    "# Uso\n",
    "mi_perro = Perro()\n",
    "mi_gato = Gato()\n",
    "\n",
    "emitir_sonido(mi_perro)  # El perro ladra\n",
    "emitir_sonido(mi_gato)  # El gato maúlla"
   ]
  },
  {
   "cell_type": "markdown",
   "metadata": {},
   "source": [
    "- C++:\n",
    "\n",
    "En C++, el polimorfismo en tiempo de ejecución se logra a través de funciones virtuales\n",
    "\n",
    "```c++\n",
    "#include <iostream>\n",
    "using namespace std;\n",
    "\n",
    "class Animal {\n",
    "public:\n",
    "    virtual void hacerSonido() {\n",
    "        cout << \"El animal hace un sonido\" << endl;\n",
    "    }\n",
    "};\n",
    "\n",
    "class Perro : public Animal {\n",
    "public:\n",
    "    void hacerSonido() override {\n",
    "        cout << \"El perro ladra\" << endl;\n",
    "    }\n",
    "};\n",
    "\n",
    "int main() {\n",
    "    Animal* miAnimal = new Perro();\n",
    "    miAnimal->hacerSonido(); // Salida: \"El perro ladra\"\n",
    "    delete miAnimal;\n",
    "}"
   ]
  },
  {
   "cell_type": "markdown",
   "metadata": {},
   "source": [
    "### **Jerarquía de clases (polimorfismo):**"
   ]
  },
  {
   "cell_type": "code",
   "execution_count": 118,
   "metadata": {},
   "outputs": [
    {
     "data": {
      "image/png": "[encoded data removed]",
      "text/plain": [
       "<Figure size 640x480 with 1 Axes>"
      ]
     },
     "metadata": {},
     "output_type": "display_data"
    }
   ],
   "source": [
    "import networkx as nx\n",
    "import matplotlib.pyplot as plt\n",
    "\n",
    "# Crear el grafo\n",
    "G = nx.DiGraph()\n",
    "\n",
    "# Añadir nodos y relaciones\n",
    "G.add_node(\"Animal (Clase base)\")\n",
    "G.add_node(\"Perro\")\n",
    "G.add_node(\"Gato\")\n",
    "G.add_edge(\"Animal (Clase base)\", \"Perro\")\n",
    "G.add_edge(\"Animal (Clase base)\", \"Gato\")\n",
    "\n",
    "# Dibujar el grafo\n",
    "pos = nx.spring_layout(G)\n",
    "nx.draw(G, pos, with_labels=True, node_size=3000, node_color=\"lightblue\", font_size=10, font_weight=\"bold\")\n",
    "plt.title(\"Polimorfismo: Clase base y derivadas\")\n",
    "plt.show()"
   ]
  },
  {
   "cell_type": "markdown",
   "metadata": {},
   "source": [
    "##### *Descripción:*\n",
    "\n",
    "- Animal es la clase base.\n",
    "\n",
    "- Perro y Gato son clases derivadas que heredan y sobrescriben métodos de Animal."
   ]
  },
  {
   "cell_type": "markdown",
   "metadata": {},
   "source": [
    "## **8.- ¿Qué es un método dunder?**"
   ]
  },
  {
   "cell_type": "markdown",
   "metadata": {},
   "source": [
    "Un método dunder (también llamado método mágico o método especial) es un método especial en Python que tiene dos guiones bajos (double underscores) al principio y al final de su nombre. El término \"dunder\" viene de la abreviatura en inglés de \"double underscore\" (double underscore method).\n",
    "\n",
    "Estos métodos son utilizados para habilitar comportamientos específicos de las clases y objetos en Python. Aunque no son llamados directamente por el programador, Python los invoca automáticamente en ciertas situaciones.\n",
    "\n",
    "##### *Ejemplo*: Cuando usas el operador + entre dos objetos, Python internamente llama al método dunder __add__.\n",
    "\n",
    "### **Características de los métodos dunder**\n",
    "\n",
    "- Nombrado especial: Siempre están rodeados por dos guiones bajos. Por ejemplo: __init__, __str__, __add__, etc.\n",
    "\n",
    "- Automatización: Python los invoca de forma automática, por lo que no necesitas llamarlos explícitamente.\n",
    "\n",
    "- Interacción con características del lenguaje: Los métodos dunder permiten sobrecargar operadores, personalizar la representación de objetos, gestionar atributos, entre otras funcionalidades.\n",
    "\n",
    "### **Tipos de métodos dunder más comunes**\n",
    "\n",
    "Los métodos dunder abarcan diferentes áreas de interacción dentro del lenguaje. Aquí algunos ejemplos:\n",
    "\n",
    "**1. Métodos dunder relacionados con inicialización y construcción**\n",
    "\n",
    "Estos métodos son usados para controlar el ciclo de vida de los objetos.\n",
    "\n",
    "- `__init__`: Método constructor que inicializa un objeto después de crearlo. Es el equivalente de un constructor en otros lenguajes de programación.\n",
    "\n",
    "##### *Ejemplo:*"
   ]
  },
  {
   "cell_type": "code",
   "execution_count": 119,
   "metadata": {},
   "outputs": [
    {
     "name": "stdout",
     "output_type": "stream",
     "text": [
      "Lorena\n",
      "28\n"
     ]
    }
   ],
   "source": [
    "class Persona:\n",
    "    def __init__(self, nombre, edad):\n",
    "        self.nombre = nombre\n",
    "        self.edad = edad\n",
    "\n",
    "persona = Persona(\"Lorena\", 28)\n",
    "print(persona.nombre)  \n",
    "print(persona.edad)  "
   ]
  },
  {
   "cell_type": "markdown",
   "metadata": {},
   "source": [
    "- `__del__`: Método destructor que se llama justo antes de que un objeto sea eliminado por el recolector de basura.\n",
    "\n",
    "**2. Métodos dunder relacionados con la representación**\n",
    "\n",
    "Estos métodos se utilizan para definir cómo se representa un objeto.\n",
    "\n",
    "- `__str__`: Define la representación en forma de cadena (usualmente para usuarios). Se llama cuando usas print() o str().\n",
    "\n",
    "##### *Ejemplo:*"
   ]
  },
  {
   "cell_type": "code",
   "execution_count": 120,
   "metadata": {},
   "outputs": [
    {
     "name": "stdout",
     "output_type": "stream",
     "text": [
      "Producto: Laptop, Precio: 1000€\n"
     ]
    }
   ],
   "source": [
    "class Producto:\n",
    "    def __init__(self, nombre, precio):\n",
    "        self.nombre = nombre\n",
    "        self.precio = precio\n",
    "    \n",
    "    def __str__(self):\n",
    "        return f\"Producto: {self.nombre}, Precio: {self.precio}€\"\n",
    "\n",
    "producto = Producto(\"Laptop\", 1000)\n",
    "print(producto)  "
   ]
  },
  {
   "cell_type": "markdown",
   "metadata": {},
   "source": [
    "- `__repr__`: Define la representación más técnica de un objeto (usualmente para desarrolladores). Se utiliza en el entorno interactivo de Python o al llamar repr().\n",
    "\n",
    "\n",
    "**3. Métodos dunder relacionados con operadores**\n",
    "\n",
    "Estos métodos permiten sobrecargar operadores para usarlos con objetos personalizados.\n",
    "\n",
    "- `__add__`: Permite sobrecargar el operador + entre objetos.\n",
    "\n",
    "##### *Ejemplo:*"
   ]
  },
  {
   "cell_type": "code",
   "execution_count": 121,
   "metadata": {},
   "outputs": [
    {
     "name": "stdout",
     "output_type": "stream",
     "text": [
      "Vector(4, 6)\n"
     ]
    }
   ],
   "source": [
    "class Vector:\n",
    "    def __init__(self, x, y):\n",
    "        self.x = x\n",
    "        self.y = y\n",
    "    \n",
    "    def __add__(self, otro_vector):\n",
    "        return Vector(self.x + otro_vector.x, self.y + otro_vector.y)\n",
    "\n",
    "    def __str__(self):\n",
    "        return f\"Vector({self.x}, {self.y})\"\n",
    "\n",
    "v1 = Vector(1, 2)\n",
    "v2 = Vector(3, 4)\n",
    "print(v1 + v2) "
   ]
  },
  {
   "cell_type": "markdown",
   "metadata": {},
   "source": [
    "- `__sub__`: Para el operador -.\n",
    "\n",
    "- `__mul__`: Para el operador *.\n",
    "\n",
    "\n",
    "**4. Métodos dunder relacionados con contenedores**\n",
    "\n",
    "Estos métodos hacen que los objetos se comporten como contenedores (listas, tuplas, diccionarios).\n",
    "\n",
    "- `__getitem__`: Permite acceder a elementos mediante índices.\n",
    "\n",
    "##### *Ejemplo:*"
   ]
  },
  {
   "cell_type": "code",
   "execution_count": 122,
   "metadata": {},
   "outputs": [
    {
     "name": "stdout",
     "output_type": "stream",
     "text": [
      "20\n"
     ]
    }
   ],
   "source": [
    "class MiLista:\n",
    "    def __init__(self, datos):\n",
    "        self.datos = datos\n",
    "    \n",
    "    def __getitem__(self, indice):\n",
    "        return self.datos[indice]\n",
    "\n",
    "lista = MiLista([10, 20, 30])\n",
    "print(lista[1])  "
   ]
  },
  {
   "cell_type": "markdown",
   "metadata": {},
   "source": [
    "- `__setitem__`: Define cómo modificar elementos mediante índices.\n",
    "\n",
    "- `__delitem__`: Permite eliminar elementos mediante índices.\n",
    "\n",
    "\n",
    "**5. Métodos dunder relacionados con la comparación**\n",
    "\n",
    "Estos métodos permiten comparar objetos utilizando operadores estándar.\n",
    "\n",
    "- `__eq__`: Para el operador ==.\n",
    "\n",
    "- `__lt__`: Para el operador <.\n",
    "\n",
    "- `__gt__`: Para el operador >.\n",
    "\n",
    "##### *Ejemplo:*"
   ]
  },
  {
   "cell_type": "code",
   "execution_count": 123,
   "metadata": {},
   "outputs": [
    {
     "name": "stdout",
     "output_type": "stream",
     "text": [
      "True\n"
     ]
    }
   ],
   "source": [
    "class Persona:\n",
    "    def __init__(self, nombre, edad):\n",
    "        self.nombre = nombre\n",
    "        self.edad = edad\n",
    "    \n",
    "    def __eq__(self, otra_persona):\n",
    "        return self.edad == otra_persona.edad\n",
    "\n",
    "persona1 = Persona(\"Lorena\", 30)\n",
    "persona2 = Persona(\"Juan\", 30)\n",
    "print(persona1 == persona2)  "
   ]
  },
  {
   "cell_type": "markdown",
   "metadata": {},
   "source": [
    "### **Ventajas de los métodos dunder**\n",
    "\n",
    "- Personalización de clases: Puedes adaptar el comportamiento de los objetos según las necesidades de tu programa.\n",
    "\n",
    "- Sobrecarga de operadores: Facilita el manejo de clases complejas usando operadores estándar como +, -, ==, etc.\n",
    "\n",
    "- Flexibilidad y claridad: Permiten una sintaxis limpia y más intuitiva.\n",
    "\n",
    "\n",
    "### **Otros métodos dunder útiles**\n",
    "\n",
    "Además de los mencionados, hay muchos otros métodos dunder, como:\n",
    "\n",
    "- `__len__`: Retorna la longitud de un objeto (por ejemplo, el tamaño de una lista).\n",
    "\n",
    "- `__call__`: Hace que un objeto sea invocable como si fuera una función.\n",
    "\n",
    "- `__iter__`: Permite que un objeto sea iterable."
   ]
  },
  {
   "cell_type": "markdown",
   "metadata": {},
   "source": [
    "### **Cómo interactúan los métodos dunder con acciones comunes como operadores:**"
   ]
  },
  {
   "cell_type": "code",
   "execution_count": 124,
   "metadata": {},
   "outputs": [
    {
     "data": {
      "image/png": "[encoded data removed]",
      "text/plain": [
       "<Figure size 640x480 with 1 Axes>"
      ]
     },
     "metadata": {},
     "output_type": "display_data"
    }
   ],
   "source": [
    "import matplotlib.pyplot as plt\n",
    "\n",
    "# Datos\n",
    "metodos = [\"__add__\", \"__sub__\", \"__mul__\", \"__str__\", \"__len__\"]\n",
    "acciones = [\"+\", \"-\", \"*\", \"str()\", \"len()\"]\n",
    "\n",
    "fig, ax = plt.subplots()\n",
    "\n",
    "# Crear líneas entre métodos y acciones\n",
    "for i, metodo in enumerate(metodos):\n",
    "    ax.plot([0, 1], [i, i], \"k-\")\n",
    "\n",
    "# Etiquetas de los métodos\n",
    "for i, metodo in enumerate(metodos):\n",
    "    ax.text(-0.1, i, metodo, fontsize=12, ha=\"right\")\n",
    "\n",
    "# Etiquetas de las acciones\n",
    "for i, accion in enumerate(acciones):\n",
    "    ax.text(1.1, i, accion, fontsize=12, ha=\"left\")\n",
    "\n",
    "# Configuración general\n",
    "ax.axis(\"off\")\n",
    "plt.title(\"Relación entre métodos dunder y acciones\")\n",
    "plt.show()"
   ]
  },
  {
   "cell_type": "markdown",
   "metadata": {},
   "source": [
    "##### *Descripción:*\n",
    "\n",
    "Muestra la relación entre métodos mágicos como __add__ y su funcionalidad (por ejemplo, el operador +)."
   ]
  },
  {
   "cell_type": "markdown",
   "metadata": {},
   "source": [
    "## **9.- ¿Qué es un decorador de python?**"
   ]
  },
  {
   "cell_type": "markdown",
   "metadata": {},
   "source": [
    "Un decorador en Python es una función especial que modifica o extiende el comportamiento de otra función o método sin cambiar su código directamente. Es una forma poderosa y elegante de reutilizar código y añadir funcionalidades a funciones o clases existentes.\n",
    "\n",
    "Los decoradores en Python se implementan utilizando el símbolo @ antes del nombre del decorador, y se aplican justo encima de la definición de la función o método al que van dirigidos."
   ]
  },
  {
   "cell_type": "markdown",
   "metadata": {},
   "source": [
    "### **Concepto detrás de los decoradores**\n",
    "\n",
    "Un decorador es, en esencia:\n",
    "\n",
    "- Una función que toma otra función como argumento, la \"decora\" añadiéndole funcionalidades adicionales y, opcionalmente, devuelve una nueva función.\n",
    "\n",
    "- Sirve para modificar dinámicamente el comportamiento sin alterar directamente el código original de la función decorada.\n",
    "\n",
    "##### *Por ejemplo:*\n",
    "\n",
    "```python\n",
    "@decorador\n",
    "def funcion_original():\n",
    "    pass\n",
    "\n",
    "Es equivalente a: "
   ]
  },
  {
   "cell_type": "markdown",
   "metadata": {},
   "source": [
    "```python\n",
    "def funcion_original():\n",
    "    pass\n",
    "\n",
    "funcion_original = decorador(funcion_original)\n"
   ]
  },
  {
   "cell_type": "markdown",
   "metadata": {},
   "source": [
    "### **Estructura básica de un decorador**\n",
    "\n",
    "Un decorador es simplemente una función que:\n",
    "\n",
    "- Recibe como parámetro otra función.\n",
    "\n",
    "- Define una función interna (usualmente llamada wrapper) que añade funcionalidad.\n",
    "\n",
    "- Devuelve la función interna.\n",
    "\n",
    "##### *Ejemplo básico de un decorador:*"
   ]
  },
  {
   "cell_type": "code",
   "execution_count": 125,
   "metadata": {},
   "outputs": [
    {
     "name": "stdout",
     "output_type": "stream",
     "text": [
      "Antes de ejecutar la función.\n",
      "Hola, Mundo\n",
      "Después de ejecutar la función.\n"
     ]
    }
   ],
   "source": [
    "def mi_decorador(func):\n",
    "    def wrapper():\n",
    "        print(\"Antes de ejecutar la función.\")\n",
    "        func()\n",
    "        print(\"Después de ejecutar la función.\")\n",
    "    return wrapper\n",
    "\n",
    "@mi_decorador\n",
    "def saludar():\n",
    "    print(\"Hola, Mundo\")\n",
    "\n",
    "saludar()"
   ]
  },
  {
   "cell_type": "markdown",
   "metadata": {},
   "source": [
    "### **Partes importantes de los decoradores**\n",
    "\n",
    "- Función a decorar (la función original): Es la función principal cuyo comportamiento queremos modificar o extender.\n",
    "\n",
    "- Decorador: Es la función que envuelve la función original y añade nuevas funcionalidades.\n",
    "\n",
    "- Wrapper: Es la función interna dentro del decorador que se ejecuta antes, después o en lugar de la función original.\n",
    "\n",
    "### **Casos de uso de los decoradores**\n",
    "\n",
    "Los decoradores son útiles para una variedad de tareas en el desarrollo de software. Aquí tienes algunos ejemplos prácticos:\n",
    "\n",
    "1. Registrar el uso de una función\n",
    "\n",
    "Un decorador puede usarse para registrar cuántas veces se llama una función."
   ]
  },
  {
   "cell_type": "code",
   "execution_count": 126,
   "metadata": {},
   "outputs": [
    {
     "name": "stdout",
     "output_type": "stream",
     "text": [
      "La función decir_hola ha sido llamada 1 veces\n",
      "¡Hola!\n",
      "La función decir_hola ha sido llamada 2 veces\n",
      "¡Hola!\n"
     ]
    }
   ],
   "source": [
    "def registrar_llamadas(func):\n",
    "    contador = 0\n",
    "\n",
    "    def wrapper(*args, **kwargs):\n",
    "        nonlocal contador\n",
    "        contador += 1\n",
    "        print(f\"La función {func.__name__} ha sido llamada {contador} veces\")\n",
    "        return func(*args, **kwargs)\n",
    "\n",
    "    return wrapper\n",
    "\n",
    "@registrar_llamadas\n",
    "def decir_hola():\n",
    "    print(\"¡Hola!\")\n",
    "\n",
    "decir_hola()\n",
    "decir_hola()"
   ]
  },
  {
   "cell_type": "markdown",
   "metadata": {},
   "source": [
    "2. Autenticación de usuarios\n",
    "\n",
    "Un decorador puede verificar si un usuario está autenticado antes de permitir el acceso a una función."
   ]
  },
  {
   "cell_type": "code",
   "execution_count": 127,
   "metadata": {},
   "outputs": [
    {
     "name": "stdout",
     "output_type": "stream",
     "text": [
      "Acceso denegado. Usuario no autenticado.\n",
      "Accediendo al sistema...\n"
     ]
    }
   ],
   "source": [
    "def requiere_autenticacion(func):\n",
    "    def wrapper(usuario, *args, **kwargs):\n",
    "        if usuario.get(\"autenticado\"):\n",
    "            return func(*args, **kwargs)\n",
    "        else:\n",
    "            print(\"Acceso denegado. Usuario no autenticado.\")\n",
    "    return wrapper\n",
    "\n",
    "@requiere_autenticacion\n",
    "def acceso_sistema():\n",
    "    print(\"Accediendo al sistema...\")\n",
    "\n",
    "usuario = {\"nombre\": \"Lorena\", \"autenticado\": False}\n",
    "acceso_sistema(usuario)  \n",
    "\n",
    "usuario[\"autenticado\"] = True\n",
    "acceso_sistema(usuario)  "
   ]
  },
  {
   "cell_type": "markdown",
   "metadata": {},
   "source": [
    "3. Mediciones de tiempo de ejecución\n",
    "\n",
    "Un decorador puede calcular cuánto tarda en ejecutarse una función."
   ]
  },
  {
   "cell_type": "code",
   "execution_count": 128,
   "metadata": {},
   "outputs": [
    {
     "name": "stdout",
     "output_type": "stream",
     "text": [
      "Tarea completada\n",
      "Tiempo de ejecución: 2.0008 segundos\n"
     ]
    }
   ],
   "source": [
    "import time\n",
    "\n",
    "def medir_tiempo(func):\n",
    "    def wrapper(*args, **kwargs):\n",
    "        inicio = time.time()\n",
    "        resultado = func(*args, **kwargs)\n",
    "        fin = time.time()\n",
    "        print(f\"Tiempo de ejecución: {fin - inicio:.4f} segundos\")\n",
    "        return resultado\n",
    "    return wrapper\n",
    "\n",
    "@medir_tiempo\n",
    "def tarea_pesada():\n",
    "    time.sleep(2)\n",
    "    print(\"Tarea completada\")\n",
    "\n",
    "tarea_pesada()"
   ]
  },
  {
   "cell_type": "markdown",
   "metadata": {},
   "source": [
    "### **Decoradores con argumentos**\n",
    "\n",
    "Un decorador también puede recibir sus propios argumentos. Para esto, necesitas una función adicional que \"configure\" el decorador."
   ]
  },
  {
   "cell_type": "code",
   "execution_count": 129,
   "metadata": {},
   "outputs": [
    {
     "name": "stdout",
     "output_type": "stream",
     "text": [
      "Log antes de ejecutar.\n",
      "Adiós\n",
      "Log después de ejecutar.\n"
     ]
    }
   ],
   "source": [
    "def decorador_con_argumentos(texto):\n",
    "    def decorador(func):\n",
    "        def wrapper(*args, **kwargs):\n",
    "            print(f\"{texto} antes de ejecutar.\")\n",
    "            resultado = func(*args, **kwargs)\n",
    "            print(f\"{texto} después de ejecutar.\")\n",
    "            return resultado\n",
    "        return wrapper\n",
    "    return decorador\n",
    "\n",
    "@decorador_con_argumentos(\"Log\")\n",
    "def decir_adios():\n",
    "    print(\"Adiós\")\n",
    "\n",
    "decir_adios()"
   ]
  },
  {
   "cell_type": "markdown",
   "metadata": {},
   "source": [
    "### **Decoradores predefinidos en Python**\n",
    "\n",
    "Python incluye varios decoradores integrados que son ampliamente utilizados, como:\n",
    "\n",
    "- @staticmethod: Define un método estático dentro de una clase, que no recibe self ni cls.\n",
    "\n",
    "- @classmethod: Define un método de clase que recibe cls como primer argumento.\n",
    "\n",
    "- @property: Convierte un método en una propiedad, lo que permite acceder a él sin paréntesis.\n",
    "\n",
    "\n",
    "### **Ventajas de los decoradores**\n",
    "\n",
    "- Modularidad: Puedes añadir o modificar el comportamiento de las funciones sin tocarlas directamente.\n",
    "\n",
    "- Reutilización de código: Los decoradores permiten aplicar funcionalidades comunes a múltiples funciones.\n",
    "\n",
    "- Simplicidad: Hacen que el código sea más limpio, legible y estructurado."
   ]
  },
  {
   "cell_type": "markdown",
   "metadata": {},
   "source": [
    "### **Visualización de cómo un decorador \"envuelve\" una función original:**"
   ]
  },
  {
   "cell_type": "code",
   "execution_count": 130,
   "metadata": {},
   "outputs": [
    {
     "data": {
      "image/png": "[encoded data removed]",
      "text/plain": [
       "<Figure size 640x480 with 1 Axes>"
      ]
     },
     "metadata": {},
     "output_type": "display_data"
    }
   ],
   "source": [
    "fig, ax = plt.subplots()\n",
    "\n",
    "# Dibujar las cajas\n",
    "ax.add_patch(plt.Rectangle((0.2, 0.6), 0.6, 0.2, fill=True, color=\"lightblue\", edgecolor=\"blue\", linewidth=2))\n",
    "ax.text(0.5, 0.7, \"Función Decorada\", fontsize=12, ha=\"center\")\n",
    "ax.add_patch(plt.Rectangle((0.2, 0.3), 0.6, 0.2, fill=True, color=\"lightgreen\", edgecolor=\"green\", linewidth=2))\n",
    "ax.text(0.5, 0.4, \"Función Original\", fontsize=12, ha=\"center\")\n",
    "\n",
    "# Flecha entre cajas\n",
    "ax.annotate(\"\", xy=(0.5, 0.6), xytext=(0.5, 0.5), arrowprops=dict(facecolor='black', shrink=0.05))\n",
    "\n",
    "# Configuración de los ejes\n",
    "ax.axis(\"off\")\n",
    "plt.title(\"Aplicación de un Decorador\")\n",
    "plt.show()"
   ]
  },
  {
   "cell_type": "markdown",
   "metadata": {},
   "source": [
    "##### *Descripción:*\n",
    "\n",
    "- La caja superior es la función decorada.\n",
    "\n",
    "- La caja inferior es la función original antes de aplicar el decorador."
   ]
  }
 ],
 "metadata": {
  "kernelspec": {
   "display_name": "Python 3",
   "language": "python",
   "name": "python3"
  },
  "language_info": {
   "codemirror_mode": {
    "name": "ipython",
    "version": 3
   },
   "file_extension": ".py",
   "mimetype": "text/x-python",
   "name": "python",
   "nbconvert_exporter": "python",
   "pygments_lexer": "ipython3",
   "version": "3.12.3"
  }
 },
 "nbformat": 4,
 "nbformat_minor": 2
}
